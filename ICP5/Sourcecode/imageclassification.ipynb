{
  "nbformat": 4,
  "nbformat_minor": 0,
  "metadata": {
    "colab": {
      "name": "imageclassification.ipynb",
      "provenance": [],
      "collapsed_sections": []
    },
    "kernelspec": {
      "name": "python3",
      "display_name": "Python 3"
    },
    "accelerator": "GPU"
  },
  "cells": [
    {
      "cell_type": "markdown",
      "metadata": {
        "id": "OfI1eOEvnr2f"
      },
      "source": [
        "**From uper Menu choose:**\n",
        "---\n",
        "Runtime --> Change runtime type:\n",
        "---\n",
        "change Hardare accelerator to (gpu)"
      ]
    },
    {
      "cell_type": "code",
      "metadata": {
        "id": "Ry7NRUf0llQ8"
      },
      "source": [
        "from keras import Sequential\n",
        "from keras.datasets import mnist\n",
        "import numpy as np\n",
        "from keras.layers import Dense\n",
        "from tensorflow.keras.utils import to_categorical"
      ],
      "execution_count": 22,
      "outputs": []
    },
    {
      "cell_type": "code",
      "metadata": {
        "id": "XReLyY3jlr-R"
      },
      "source": [
        "(train_images,train_labels),(test_images, test_labels) = mnist.load_data()"
      ],
      "execution_count": 23,
      "outputs": []
    },
    {
      "cell_type": "code",
      "metadata": {
        "id": "RrEOE2a_luF1",
        "colab": {
          "base_uri": "https://localhost:8080/"
        },
        "outputId": "18d0ce3b-a9b0-4f3d-d9d1-148ff20d7265"
      },
      "source": [
        "print(type(train_images))\n",
        "print(train_images.shape)\n",
        "print(train_images[251].shape)"
      ],
      "execution_count": 24,
      "outputs": [
        {
          "output_type": "stream",
          "text": [
            "<class 'numpy.ndarray'>\n",
            "(60000, 28, 28)\n",
            "(28, 28)\n"
          ],
          "name": "stdout"
        }
      ]
    },
    {
      "cell_type": "markdown",
      "metadata": {
        "id": "oi1noKXWl0E4"
      },
      "source": [
        "#process the data\n",
        "#1. convert each image of shape 28*28 to 784 dimensional which will be fed to the network as a single feature"
      ]
    },
    {
      "cell_type": "code",
      "metadata": {
        "id": "3KcvF2qFlwhr",
        "colab": {
          "base_uri": "https://localhost:8080/"
        },
        "outputId": "79ff81a9-9d79-4006-a9fb-a6ad2f45d9e4"
      },
      "source": [
        "dimData = np.prod(train_images.shape[1:])\n",
        "print(dimData)\n",
        "train_data = train_images.reshape(train_images.shape[0],dimData)\n",
        "test_data = test_images.reshape(test_images.shape[0],dimData)\n",
        "print(train_data.shape)"
      ],
      "execution_count": 25,
      "outputs": [
        {
          "output_type": "stream",
          "text": [
            "784\n",
            "(60000, 784)\n"
          ],
          "name": "stdout"
        }
      ]
    },
    {
      "cell_type": "markdown",
      "metadata": {
        "id": "CI3BKhj0l3fd"
      },
      "source": [
        "#convert data to float and scale values between 0 and 1"
      ]
    },
    {
      "cell_type": "code",
      "metadata": {
        "id": "G_XcNfVfl1jH"
      },
      "source": [
        "train_data = train_data.astype('float')\n",
        "test_data = test_data.astype('float')"
      ],
      "execution_count": 26,
      "outputs": []
    },
    {
      "cell_type": "markdown",
      "metadata": {
        "id": "ODdo3u8Ql8c8"
      },
      "source": [
        "#scale data"
      ]
    },
    {
      "cell_type": "code",
      "metadata": {
        "id": "nky9C9FMl7BU"
      },
      "source": [
        "train_data /=255.0\n",
        "test_data /=255.0"
      ],
      "execution_count": 27,
      "outputs": []
    },
    {
      "cell_type": "markdown",
      "metadata": {
        "id": "PVc9dRURl_oo"
      },
      "source": [
        "change the labels frominteger to one-hot encoding. to_categorical is doing the same thing as LabelEncoder()"
      ]
    },
    {
      "cell_type": "code",
      "metadata": {
        "id": "iGTKxNyYl-nE"
      },
      "source": [
        "train_labels_one_hot = to_categorical(train_labels)\n",
        "\n",
        "\n",
        "test_labels_one_hot = to_categorical(test_labels)"
      ],
      "execution_count": 28,
      "outputs": []
    },
    {
      "cell_type": "code",
      "metadata": {
        "id": "t8ep_1n73_QK",
        "colab": {
          "base_uri": "https://localhost:8080/"
        },
        "outputId": "7e7b7082-a14f-441f-855c-ae3cb411f50a"
      },
      "source": [
        "print(train_labels_one_hot[0])"
      ],
      "execution_count": 29,
      "outputs": [
        {
          "output_type": "stream",
          "text": [
            "[0. 0. 0. 0. 0. 1. 0. 0. 0. 0.]\n"
          ],
          "name": "stdout"
        }
      ]
    },
    {
      "cell_type": "markdown",
      "metadata": {
        "id": "1YFoN0z6mEbR"
      },
      "source": [
        "#creating network"
      ]
    },
    {
      "cell_type": "markdown",
      "metadata": {
        "id": "1wBC4YVw0YwD"
      },
      "source": [
        "### 1- a. Change the number of hidden layers and the activation to tanh or sigmoid and report what happens:\n",
        "Here is the result based on the first epoch:\n",
        "\n",
        "*   relu: loss: 0.5819 - accuracy: 0.8272 - val_loss: 0.1135 - val_accuracy: 0.9659\n",
        "\n",
        "*   tanh: loss: 0.5158 - accuracy: 0.8495 - val_loss: 0.1590 - val_accuracy: 0.9526\n",
        "\n",
        "*   sigmoid: loss: 1.7816 - accuracy: 0.4098 - val_loss: 0.4346 - val_accuracy: 0.8955\n",
        "\n",
        "\n",
        "\n",
        "\n"
      ]
    },
    {
      "cell_type": "code",
      "metadata": {
        "id": "9ui43p57mCgk"
      },
      "source": [
        "model = Sequential()\n",
        "model.add(Dense(512, activation='sigmoid', input_shape=(dimData,)))\n",
        "model.add(Dense(256, activation='sigmoid'))\n",
        "model.add(Dense(128, activation='sigmoid'))\n",
        "model.add(Dense(64, activation='sigmoid'))\n",
        "model.add(Dense(10, activation='softmax'))"
      ],
      "execution_count": 82,
      "outputs": []
    },
    {
      "cell_type": "code",
      "metadata": {
        "colab": {
          "base_uri": "https://localhost:8080/"
        },
        "id": "EIRR22g8x2O6",
        "outputId": "1649ab77-12db-40ae-b76c-2c3f57181931"
      },
      "source": [
        "model.summary()"
      ],
      "execution_count": 83,
      "outputs": [
        {
          "output_type": "stream",
          "text": [
            "Model: \"sequential_6\"\n",
            "_________________________________________________________________\n",
            "Layer (type)                 Output Shape              Param #   \n",
            "=================================================================\n",
            "dense_50 (Dense)             (None, 512)               401920    \n",
            "_________________________________________________________________\n",
            "dense_51 (Dense)             (None, 256)               131328    \n",
            "_________________________________________________________________\n",
            "dense_52 (Dense)             (None, 128)               32896     \n",
            "_________________________________________________________________\n",
            "dense_53 (Dense)             (None, 64)                8256      \n",
            "_________________________________________________________________\n",
            "dense_54 (Dense)             (None, 10)                650       \n",
            "=================================================================\n",
            "Total params: 575,050\n",
            "Trainable params: 575,050\n",
            "Non-trainable params: 0\n",
            "_________________________________________________________________\n"
          ],
          "name": "stdout"
        }
      ]
    },
    {
      "cell_type": "markdown",
      "metadata": {
        "id": "538_9WbGmp5a"
      },
      "source": [
        "# Compile model"
      ]
    },
    {
      "cell_type": "code",
      "metadata": {
        "id": "ck4tEWPMmG0j"
      },
      "source": [
        "model.compile(optimizer='adam', loss='categorical_crossentropy', metrics=['accuracy'])"
      ],
      "execution_count": 84,
      "outputs": []
    },
    {
      "cell_type": "markdown",
      "metadata": {
        "id": "Rs3XmHWgx8LS"
      },
      "source": [
        "# Fit model"
      ]
    },
    {
      "cell_type": "code",
      "metadata": {
        "id": "rsNP_elemr_i",
        "colab": {
          "base_uri": "https://localhost:8080/"
        },
        "outputId": "335fce5d-9584-4909-a6e0-53c6581f26d5"
      },
      "source": [
        "history = model.fit(train_data, train_labels_one_hot, batch_size=256, epochs=10, verbose=1, validation_data=(test_data, test_labels_one_hot))"
      ],
      "execution_count": 85,
      "outputs": [
        {
          "output_type": "stream",
          "text": [
            "Epoch 1/10\n",
            "235/235 [==============================] - 2s 7ms/step - loss: 1.7816 - accuracy: 0.4098 - val_loss: 0.4346 - val_accuracy: 0.8955\n",
            "Epoch 2/10\n",
            "235/235 [==============================] - 1s 4ms/step - loss: 0.3883 - accuracy: 0.9011 - val_loss: 0.2525 - val_accuracy: 0.9336\n",
            "Epoch 3/10\n",
            "235/235 [==============================] - 1s 4ms/step - loss: 0.2267 - accuracy: 0.9403 - val_loss: 0.1963 - val_accuracy: 0.9473\n",
            "Epoch 4/10\n",
            "235/235 [==============================] - 1s 4ms/step - loss: 0.1684 - accuracy: 0.9538 - val_loss: 0.1663 - val_accuracy: 0.9534\n",
            "Epoch 5/10\n",
            "235/235 [==============================] - 1s 4ms/step - loss: 0.1318 - accuracy: 0.9635 - val_loss: 0.1425 - val_accuracy: 0.9589\n",
            "Epoch 6/10\n",
            "235/235 [==============================] - 1s 4ms/step - loss: 0.1062 - accuracy: 0.9710 - val_loss: 0.1249 - val_accuracy: 0.9645\n",
            "Epoch 7/10\n",
            "235/235 [==============================] - 1s 4ms/step - loss: 0.0847 - accuracy: 0.9766 - val_loss: 0.1105 - val_accuracy: 0.9684\n",
            "Epoch 8/10\n",
            "235/235 [==============================] - 1s 4ms/step - loss: 0.0732 - accuracy: 0.9799 - val_loss: 0.1023 - val_accuracy: 0.9700\n",
            "Epoch 9/10\n",
            "235/235 [==============================] - 1s 4ms/step - loss: 0.0671 - accuracy: 0.9823 - val_loss: 0.1029 - val_accuracy: 0.9699\n",
            "Epoch 10/10\n",
            "235/235 [==============================] - 1s 4ms/step - loss: 0.0572 - accuracy: 0.9844 - val_loss: 0.0927 - val_accuracy: 0.9721\n"
          ],
          "name": "stdout"
        }
      ]
    },
    {
      "cell_type": "code",
      "metadata": {
        "id": "8m3IoHX0Co2T",
        "colab": {
          "base_uri": "https://localhost:8080/",
          "height": 295
        },
        "outputId": "d47628e6-d790-4b5a-d07d-1fbe8dc48885"
      },
      "source": [
        "# 2. Using the history object in the source code, plot the loss and accuracy for both training data and validation data.\n",
        "import matplotlib.pyplot as plt\n",
        "\n",
        "plt.plot(history.history['loss'],c='orange')\n",
        "plt.plot(history.history['val_loss'], c='green')\n",
        "plt.title('Model Loss')\n",
        "plt.ylabel('Loss')\n",
        "plt.xlabel('Epoch')\n",
        "plt.legend(['Train', 'Test'], loc='upper right')\n",
        "plt.show()"
      ],
      "execution_count": 68,
      "outputs": [
        {
          "output_type": "display_data",
          "data": {
            "image/png": "[encoded data removed]",
            "text/plain": [
              "<Figure size 432x288 with 1 Axes>"
            ]
          },
          "metadata": {
            "tags": [],
            "needs_background": "light"
          }
        }
      ]
    },
    {
      "cell_type": "code",
      "metadata": {
        "colab": {
          "base_uri": "https://localhost:8080/",
          "height": 295
        },
        "id": "ONLcjuv3yeqS",
        "outputId": "6cf17677-7ba7-4542-d51e-d16e894484f6"
      },
      "source": [
        "plt.plot(history.history['accuracy'], c='red')\n",
        "plt.plot(history.history['val_accuracy'], c='yellow')\n",
        "plt.title('Model accuracy')\n",
        "plt.ylabel('Accuracy')\n",
        "plt.xlabel('Epoch')\n",
        "plt.legend(['Train', 'Test'], loc='upper left')\n",
        "plt.show()"
      ],
      "execution_count": 69,
      "outputs": [
        {
          "output_type": "display_data",
          "data": {
            "image/png": "[encoded data removed]",
            "text/plain": [
              "<Figure size 432x288 with 1 Axes>"
            ]
          },
          "metadata": {
            "tags": [],
            "needs_background": "light"
          }
        }
      ]
    },
    {
      "cell_type": "markdown",
      "metadata": {
        "id": "ZUimWJKk21YC"
      },
      "source": [
        "## 3. Plot one of the images in the test data, and then do inferencing to check what is the prediction of the model on that single image in the test data."
      ]
    },
    {
      "cell_type": "code",
      "metadata": {
        "id": "HGQS6dSF-7ZY",
        "colab": {
          "base_uri": "https://localhost:8080/",
          "height": 281
        },
        "outputId": "e2dcb022-7858-47de-fac8-35bd5e8e2b6d"
      },
      "source": [
        "# plt.imshow(test_data[0].reshape([28,28])) # test_images.reshape(test_images.shape[0],dimData)\n",
        "plt.imshow(test_images[9])"
      ],
      "execution_count": 70,
      "outputs": [
        {
          "output_type": "execute_result",
          "data": {
            "text/plain": [
              "<matplotlib.image.AxesImage at 0x7f7d3838cf10>"
            ]
          },
          "metadata": {
            "tags": []
          },
          "execution_count": 70
        },
        {
          "output_type": "display_data",
          "data": {
            "image/png": "[encoded data removed]",
            "text/plain": [
              "<Figure size 432x288 with 1 Axes>"
            ]
          },
          "metadata": {
            "tags": [],
            "needs_background": "light"
          }
        }
      ]
    },
    {
      "cell_type": "code",
      "metadata": {
        "id": "BDSgsMaR_52G",
        "colab": {
          "base_uri": "https://localhost:8080/"
        },
        "outputId": "5229e6d8-ab1f-4806-879e-eb9e53c7156f"
      },
      "source": [
        "res = model.predict(test_data[9:10])\n",
        "print(\"The predicted image for test data is\", res)"
      ],
      "execution_count": 71,
      "outputs": [
        {
          "output_type": "stream",
          "text": [
            "The predicted image for test data is [[6.7748565e-06 2.8463593e-05 6.8787199e-07 2.0773958e-04 3.5874266e-04\n",
            "  2.9451967e-05 1.2454756e-06 8.2621481e-03 6.7157875e-05 9.9103761e-01]]\n"
          ],
          "name": "stdout"
        }
      ]
    },
    {
      "cell_type": "code",
      "metadata": {
        "id": "2zY6OZMvA-Mj",
        "colab": {
          "base_uri": "https://localhost:8080/"
        },
        "outputId": "96777580-24ce-42b0-94a2-9c1f48b5e7b6"
      },
      "source": [
        "#print(res)\n",
        "print(res.argmax()) # Returns the indices of the maximum values along an axis."
      ],
      "execution_count": 72,
      "outputs": [
        {
          "output_type": "stream",
          "text": [
            "9\n"
          ],
          "name": "stdout"
        }
      ]
    },
    {
      "cell_type": "markdown",
      "metadata": {
        "id": "RAGzYhPksS6t"
      },
      "source": [
        "## 4. Convert the sequential model to API model."
      ]
    },
    {
      "cell_type": "code",
      "metadata": {
        "id": "PSFnqdOcmNGz"
      },
      "source": [
        "from keras.models import Model\n",
        "from keras.layers import Input\n",
        "\n",
        "i = Input(shape=(784,))\n",
        "x = Dense(512, activation='sigmoid')(i)\n",
        "x = Dense(256, activation='sigmoid')(x)\n",
        "x = Dense(128, activation='sigmoid')(x)\n",
        "x = Dense(64, activation='sigmoid')(x)\n",
        "x = Dense(10, activation='sigmoid')(x)\n",
        "modell = Model(inputs=i,outputs=x)\n",
        "\n",
        "#compile it\n",
        "modell.compile(optimizer='adam', loss='categorical_crossentropy', metrics=['accuracy'])"
      ],
      "execution_count": 86,
      "outputs": []
    },
    {
      "cell_type": "code",
      "metadata": {
        "colab": {
          "base_uri": "https://localhost:8080/"
        },
        "id": "2WMvb9nLsQ6u",
        "outputId": "42cf54e9-0151-4a79-b283-df1260ac226d"
      },
      "source": [
        "#fit the model\n",
        "history1 = modell.fit(train_data, train_labels_one_hot, batch_size=256, epochs=5, verbose=1, validation_data=(test_data, test_labels_one_hot))"
      ],
      "execution_count": 87,
      "outputs": [
        {
          "output_type": "stream",
          "text": [
            "Epoch 1/5\n",
            "235/235 [==============================] - 2s 5ms/step - loss: 1.7831 - accuracy: 0.4250 - val_loss: 0.4291 - val_accuracy: 0.8964\n",
            "Epoch 2/5\n",
            "235/235 [==============================] - 1s 4ms/step - loss: 0.3693 - accuracy: 0.9069 - val_loss: 0.2432 - val_accuracy: 0.9354\n",
            "Epoch 3/5\n",
            "235/235 [==============================] - 1s 4ms/step - loss: 0.2210 - accuracy: 0.9406 - val_loss: 0.2064 - val_accuracy: 0.9413\n",
            "Epoch 4/5\n",
            "235/235 [==============================] - 1s 4ms/step - loss: 0.1632 - accuracy: 0.9544 - val_loss: 0.1435 - val_accuracy: 0.9588\n",
            "Epoch 5/5\n",
            "235/235 [==============================] - 1s 4ms/step - loss: 0.1292 - accuracy: 0.9648 - val_loss: 0.1349 - val_accuracy: 0.9610\n"
          ],
          "name": "stdout"
        }
      ]
    },
    {
      "cell_type": "code",
      "metadata": {
        "colab": {
          "base_uri": "https://localhost:8080/"
        },
        "id": "dl53MzIvszVm",
        "outputId": "ca3f1c6b-bd2f-4280-9123-0017db3f0df8"
      },
      "source": [
        "#API model summary\n",
        "modell.summary() "
      ],
      "execution_count": 88,
      "outputs": [
        {
          "output_type": "stream",
          "text": [
            "Model: \"model_6\"\n",
            "_________________________________________________________________\n",
            "Layer (type)                 Output Shape              Param #   \n",
            "=================================================================\n",
            "input_7 (InputLayer)         [(None, 784)]             0         \n",
            "_________________________________________________________________\n",
            "dense_55 (Dense)             (None, 512)               401920    \n",
            "_________________________________________________________________\n",
            "dense_56 (Dense)             (None, 256)               131328    \n",
            "_________________________________________________________________\n",
            "dense_57 (Dense)             (None, 128)               32896     \n",
            "_________________________________________________________________\n",
            "dense_58 (Dense)             (None, 64)                8256      \n",
            "_________________________________________________________________\n",
            "dense_59 (Dense)             (None, 10)                650       \n",
            "=================================================================\n",
            "Total params: 575,050\n",
            "Trainable params: 575,050\n",
            "Non-trainable params: 0\n",
            "_________________________________________________________________\n"
          ],
          "name": "stdout"
        }
      ]
    },
    {
      "cell_type": "code",
      "metadata": {
        "colab": {
          "base_uri": "https://localhost:8080/",
          "height": 295
        },
        "id": "idhDvE0ato9N",
        "outputId": "b4e54066-6262-440b-982b-5d8980521972"
      },
      "source": [
        "#plot the API model\n",
        "plt.plot(history1.history['loss'])\n",
        "plt.plot(history1.history['val_loss'])\n",
        "plt.plot(history1.history['accuracy'])\n",
        "plt.plot(history1.history['val_accuracy'])\n",
        "plt.title('Model Loss')\n",
        "plt.ylabel('Loss')\n",
        "plt.xlabel('Epoch')\n",
        "plt.legend(['loss', 'val_loss', 'accuracy', 'val_accuracy'], loc='right')\n",
        "plt.show()"
      ],
      "execution_count": 89,
      "outputs": [
        {
          "output_type": "display_data",
          "data": {
            "image/png": "[encoded data removed]",
            "text/plain": [
              "<Figure size 432x288 with 1 Axes>"
            ]
          },
          "metadata": {
            "tags": [],
            "needs_background": "light"
          }
        }
      ]
    }
  ]
}