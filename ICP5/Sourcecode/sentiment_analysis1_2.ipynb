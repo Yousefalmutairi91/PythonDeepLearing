{
  "nbformat": 4,
  "nbformat_minor": 0,
  "metadata": {
    "colab": {
      "name": "sentiment_analysis1_2.ipynb",
      "provenance": [],
      "collapsed_sections": []
    },
    "kernelspec": {
      "name": "python3",
      "display_name": "Python 3"
    },
    "accelerator": "GPU"
  },
  "cells": [
    {
      "cell_type": "code",
      "metadata": {
        "id": "YCGsF9irW4Cz"
      },
      "source": [
        "from keras.models import Sequential\n",
        "from keras import layers\n",
        "from keras.preprocessing.text import Tokenizer\n",
        "import pandas as pd\n",
        "from keras.preprocessing.sequence import pad_sequences\n",
        "from keras.layers import Embedding, Flatten, Dense\n",
        "from sklearn import preprocessing\n",
        "from sklearn.model_selection import train_test_split\n",
        "import numpy as np\n",
        "import matplotlib.pyplot as plt\n",
        "from sklearn.datasets import fetch_20newsgroups"
      ],
      "execution_count": 1,
      "outputs": []
    },
    {
      "cell_type": "code",
      "metadata": {
        "id": "MNaC3jEBW9dw",
        "colab": {
          "base_uri": "https://localhost:8080/"
        },
        "outputId": "289d3cdb-0aa8-4f19-b839-b2a017181a0c"
      },
      "source": [
        "newsgroups_train = fetch_20newsgroups(subset='train', shuffle=True)\n",
        "sentences = newsgroups_train.data\n",
        "y = newsgroups_train.target"
      ],
      "execution_count": 2,
      "outputs": [
        {
          "output_type": "stream",
          "text": [
            "Downloading 20news dataset. This may take a few minutes.\n",
            "Downloading dataset from https://ndownloader.figshare.com/files/5975967 (14 MB)\n"
          ],
          "name": "stderr"
        }
      ]
    },
    {
      "cell_type": "code",
      "metadata": {
        "id": "SVkdn8pTKfQq"
      },
      "source": [
        "max_review_len = max([len(s.split()) for s in sentences])"
      ],
      "execution_count": 3,
      "outputs": []
    },
    {
      "cell_type": "markdown",
      "metadata": {
        "id": "Df6hooweXBJo"
      },
      "source": [
        "tokenizing data"
      ]
    },
    {
      "cell_type": "code",
      "metadata": {
        "id": "PSUceLgkW-wI"
      },
      "source": [
        "tokenizer = Tokenizer(num_words=max_review_len)\n",
        "tokenizer.fit_on_texts(sentences)"
      ],
      "execution_count": 4,
      "outputs": []
    },
    {
      "cell_type": "code",
      "metadata": {
        "id": "pWy9t9pLXFki",
        "colab": {
          "base_uri": "https://localhost:8080/"
        },
        "outputId": "39a49329-3e38-408c-c598-2d44199bd0b0"
      },
      "source": [
        "vocab_size = len(tokenizer.word_index)+1\n",
        "sentences = tokenizer.texts_to_matrix(sentences)\n",
        "padded_docs = pad_sequences(sentences, maxlen=max_review_len)\n",
        "\n",
        "input_dim = max_review_len\n",
        "print(input_dim)"
      ],
      "execution_count": 5,
      "outputs": [
        {
          "output_type": "stream",
          "text": [
            "11821\n"
          ],
          "name": "stdout"
        }
      ]
    },
    {
      "cell_type": "code",
      "metadata": {
        "id": "OuJJ6l52XHTw"
      },
      "source": [
        "#Encoding the target column\n",
        "le = preprocessing.LabelEncoder()\n",
        "y = le.fit_transform(y)\n",
        "\n",
        "#split the data into train and test\n",
        "X_train, X_test, y_train, y_test = train_test_split(sentences, y, test_size=0.30, random_state=1000)"
      ],
      "execution_count": 6,
      "outputs": []
    },
    {
      "cell_type": "code",
      "metadata": {
        "id": "rcyQwlRNXI6V"
      },
      "source": [
        "#first mistake: (NameError: name 'input_dim' is not defined) I changed it to 2000 as we gave the num_words\n",
        "\n",
        "model = Sequential()\n",
        "\n",
        "model.add(Embedding(vocab_size, 50, input_length=max_review_len))\n",
        "#If inputs are shaped (batch, ) without a feature axis, then flattening adds an extra channel dimension and output shape is (batch, 1).\n",
        "model.add(Flatten())\n",
        "\n",
        "model.add(layers.Dense(300, input_dim=input_dim, activation='relu'))\n",
        "model.add(layers.Dense(30, activation='softmax'))\n",
        "model.compile(loss='sparse_categorical_crossentropy',optimizer='adam',metrics=['acc'])"
      ],
      "execution_count": 7,
      "outputs": []
    },
    {
      "cell_type": "code",
      "metadata": {
        "id": "HGpcm3BIXNmL",
        "colab": {
          "base_uri": "https://localhost:8080/"
        },
        "outputId": "39eefb6a-1bb1-44bd-cb5b-116f7c2939d5"
      },
      "source": [
        "history= model.fit(X_train,y_train, epochs=5, verbose=True, validation_data=(X_test,y_test), batch_size=256)"
      ],
      "execution_count": 8,
      "outputs": [
        {
          "output_type": "stream",
          "text": [
            "Epoch 1/5\n",
            "31/31 [==============================] - 31s 483ms/step - loss: 15.9272 - acc: 0.0576 - val_loss: 3.2569 - val_acc: 0.0542\n",
            "Epoch 2/5\n",
            "31/31 [==============================] - 14s 465ms/step - loss: 3.1302 - acc: 0.0767 - val_loss: 2.8797 - val_acc: 0.0919\n",
            "Epoch 3/5\n",
            "31/31 [==============================] - 14s 465ms/step - loss: 2.7548 - acc: 0.1924 - val_loss: 2.4466 - val_acc: 0.3906\n",
            "Epoch 4/5\n",
            "31/31 [==============================] - 15s 477ms/step - loss: 2.1990 - acc: 0.4730 - val_loss: 1.6924 - val_acc: 0.5988\n",
            "Epoch 5/5\n",
            "31/31 [==============================] - 15s 476ms/step - loss: 1.3015 - acc: 0.7251 - val_loss: 1.0952 - val_acc: 0.7219\n"
          ],
          "name": "stdout"
        }
      ]
    },
    {
      "cell_type": "code",
      "metadata": {
        "id": "LTq4yZju_tNC",
        "colab": {
          "base_uri": "https://localhost:8080/",
          "height": 295
        },
        "outputId": "9e80d063-3380-435d-ed48-db8ae4c7813b"
      },
      "source": [
        "#4. Plot the loss and accuracy using history object.\n",
        "\n",
        "plt.plot(history.history['acc'])\n",
        "plt.plot(history.history['val_acc'])\n",
        "plt.title('Model accuracy')\n",
        "plt.ylabel('Accuracy')\n",
        "plt.xlabel('Epoch')\n",
        "plt.legend(['Train', 'Test'], loc='upper left')\n",
        "plt.show()"
      ],
      "execution_count": 9,
      "outputs": [
        {
          "output_type": "display_data",
          "data": {
            "image/png": "[encoded data removed]",
            "text/plain": [
              "<Figure size 432x288 with 1 Axes>"
            ]
          },
          "metadata": {
            "tags": [],
            "needs_background": "light"
          }
        }
      ]
    },
    {
      "cell_type": "code",
      "metadata": {
        "id": "4xvo1Q92_tBo",
        "colab": {
          "base_uri": "https://localhost:8080/",
          "height": 295
        },
        "outputId": "7e14cb05-b9e4-4680-e98b-06cde4a91ba7"
      },
      "source": [
        "plt.plot(history.history['loss'])\n",
        "plt.plot(history.history['val_loss'])\n",
        "plt.title('Model Loss')\n",
        "plt.ylabel('Loss')\n",
        "plt.xlabel('epoch')\n",
        "plt.legend(['train', 'test'], loc='upper left')\n",
        "plt.show()"
      ],
      "execution_count": 10,
      "outputs": [
        {
          "output_type": "display_data",
          "data": {
            "image/png": "[encoded data removed]",
            "text/plain": [
              "<Figure size 432x288 with 1 Axes>"
            ]
          },
          "metadata": {
            "tags": [],
            "needs_background": "light"
          }
        }
      ]
    },
    {
      "cell_type": "markdown",
      "metadata": {
        "id": "IeAiRSGfF7EW"
      },
      "source": [
        "## 5. Predict over one sample of data and check what will be the prediction for that."
      ]
    },
    {
      "cell_type": "code",
      "metadata": {
        "id": "QoELsV0o7VYn",
        "colab": {
          "base_uri": "https://localhost:8080/"
        },
        "outputId": "d18d6516-ce91-4a04-82f2-7511c3d1d586"
      },
      "source": [
        "predictedmodel = model.predict(X_test[5].reshape(1, 11821))\n",
        "print(\"Actual value=\" + str(y_test[5]) + \"\\n\", \" Predicted value=\" + str(predictedmodel.argmax()))"
      ],
      "execution_count": 16,
      "outputs": [
        {
          "output_type": "stream",
          "text": [
            "Actual value=10\n",
            "  Predicted value=10\n"
          ],
          "name": "stdout"
        }
      ]
    }
  ]
}