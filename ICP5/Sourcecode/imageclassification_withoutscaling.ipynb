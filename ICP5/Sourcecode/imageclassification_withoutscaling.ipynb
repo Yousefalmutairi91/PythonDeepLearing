{
  "nbformat": 4,
  "nbformat_minor": 0,
  "metadata": {
    "colab": {
      "name": "imageclassification_withoutscalling.ipynb",
      "provenance": [],
      "collapsed_sections": []
    },
    "kernelspec": {
      "name": "python3",
      "display_name": "Python 3"
    },
    "accelerator": "GPU"
  },
  "cells": [
    {
      "cell_type": "markdown",
      "metadata": {
        "id": "OfI1eOEvnr2f"
      },
      "source": [
        "**From uper Menu choose:**\n",
        "---\n",
        "Runtime --> Change runtime type:\n",
        "---\n",
        "change Hardare accelerator to (gpu)"
      ]
    },
    {
      "cell_type": "code",
      "metadata": {
        "id": "Ry7NRUf0llQ8"
      },
      "source": [
        "from keras import Sequential\n",
        "from keras.datasets import mnist\n",
        "import numpy as np\n",
        "from keras.layers import Dense\n",
        "from tensorflow.keras.utils import to_categorical"
      ],
      "execution_count": 1,
      "outputs": []
    },
    {
      "cell_type": "code",
      "metadata": {
        "id": "XReLyY3jlr-R",
        "colab": {
          "base_uri": "https://localhost:8080/"
        },
        "outputId": "87a9c216-d560-4fef-b78c-ccff19d7b919"
      },
      "source": [
        "(train_images,train_labels),(test_images, test_labels) = mnist.load_data()"
      ],
      "execution_count": 2,
      "outputs": [
        {
          "output_type": "stream",
          "text": [
            "Downloading data from https://storage.googleapis.com/tensorflow/tf-keras-datasets/mnist.npz\n",
            "11493376/11490434 [==============================] - 0s 0us/step\n",
            "11501568/11490434 [==============================] - 0s 0us/step\n"
          ],
          "name": "stdout"
        }
      ]
    },
    {
      "cell_type": "code",
      "metadata": {
        "id": "RrEOE2a_luF1",
        "colab": {
          "base_uri": "https://localhost:8080/"
        },
        "outputId": "301a6381-4fe5-46b3-ac03-217a786e3ca9"
      },
      "source": [
        "print(type(train_images))\n",
        "print(train_images.shape)\n",
        "print(train_images[251].shape)"
      ],
      "execution_count": 3,
      "outputs": [
        {
          "output_type": "stream",
          "text": [
            "<class 'numpy.ndarray'>\n",
            "(60000, 28, 28)\n",
            "(28, 28)\n"
          ],
          "name": "stdout"
        }
      ]
    },
    {
      "cell_type": "markdown",
      "metadata": {
        "id": "oi1noKXWl0E4"
      },
      "source": [
        "#process the data\n",
        "#1. convert each image of shape 28*28 to 784 dimensional which will be fed to the network as a single feature"
      ]
    },
    {
      "cell_type": "code",
      "metadata": {
        "id": "3KcvF2qFlwhr",
        "colab": {
          "base_uri": "https://localhost:8080/"
        },
        "outputId": "9343e78d-8507-41f1-d13e-0ebd5fbc7862"
      },
      "source": [
        "dimData = np.prod(train_images.shape[1:])\n",
        "print(dimData)\n",
        "train_data = train_images.reshape(train_images.shape[0],dimData)\n",
        "test_data = test_images.reshape(test_images.shape[0],dimData)\n",
        "print(train_data.shape)"
      ],
      "execution_count": 4,
      "outputs": [
        {
          "output_type": "stream",
          "text": [
            "784\n",
            "(60000, 784)\n"
          ],
          "name": "stdout"
        }
      ]
    },
    {
      "cell_type": "markdown",
      "metadata": {
        "id": "CI3BKhj0l3fd"
      },
      "source": [
        "#convert data to float and scale values between 0 and 1"
      ]
    },
    {
      "cell_type": "code",
      "metadata": {
        "id": "G_XcNfVfl1jH"
      },
      "source": [
        "train_data = train_data.astype('float')\n",
        "test_data = test_data.astype('float')"
      ],
      "execution_count": 5,
      "outputs": []
    },
    {
      "cell_type": "markdown",
      "metadata": {
        "id": "ODdo3u8Ql8c8"
      },
      "source": [
        "#scale data"
      ]
    },
    {
      "cell_type": "code",
      "metadata": {
        "id": "nky9C9FMl7BU"
      },
      "source": [
        "#train_data /=255.0\n",
        "#test_data /=255.0"
      ],
      "execution_count": 6,
      "outputs": []
    },
    {
      "cell_type": "markdown",
      "metadata": {
        "id": "PVc9dRURl_oo"
      },
      "source": [
        "change the labels frominteger to one-hot encoding. to_categorical is doing the same thing as LabelEncoder()"
      ]
    },
    {
      "cell_type": "code",
      "metadata": {
        "id": "iGTKxNyYl-nE"
      },
      "source": [
        "train_labels_one_hot = to_categorical(train_labels)\n",
        "\n",
        "\n",
        "test_labels_one_hot = to_categorical(test_labels)"
      ],
      "execution_count": 7,
      "outputs": []
    },
    {
      "cell_type": "code",
      "metadata": {
        "id": "t8ep_1n73_QK",
        "colab": {
          "base_uri": "https://localhost:8080/"
        },
        "outputId": "ce98e508-b038-44f2-924a-ebeac84bb486"
      },
      "source": [
        "print(train_labels_one_hot[0])"
      ],
      "execution_count": 8,
      "outputs": [
        {
          "output_type": "stream",
          "text": [
            "[0. 0. 0. 0. 0. 1. 0. 0. 0. 0.]\n"
          ],
          "name": "stdout"
        }
      ]
    },
    {
      "cell_type": "markdown",
      "metadata": {
        "id": "1YFoN0z6mEbR"
      },
      "source": [
        "#creating network"
      ]
    },
    {
      "cell_type": "code",
      "metadata": {
        "id": "9ui43p57mCgk"
      },
      "source": [
        "model = Sequential()\n",
        "model.add(Dense(512, activation='sigmoid', input_shape=(dimData,)))\n",
        "model.add(Dense(256, activation='sigmoid'))\n",
        "model.add(Dense(128, activation='sigmoid'))\n",
        "model.add(Dense(64, activation='sigmoid'))\n",
        "model.add(Dense(10, activation='softmax'))"
      ],
      "execution_count": 9,
      "outputs": []
    },
    {
      "cell_type": "code",
      "metadata": {
        "colab": {
          "base_uri": "https://localhost:8080/"
        },
        "id": "EIRR22g8x2O6",
        "outputId": "46f01c1a-0e3a-4d35-d6e3-c473b4e1d3bc"
      },
      "source": [
        "model.summary()"
      ],
      "execution_count": 10,
      "outputs": [
        {
          "output_type": "stream",
          "text": [
            "Model: \"sequential\"\n",
            "_________________________________________________________________\n",
            "Layer (type)                 Output Shape              Param #   \n",
            "=================================================================\n",
            "dense (Dense)                (None, 512)               401920    \n",
            "_________________________________________________________________\n",
            "dense_1 (Dense)              (None, 256)               131328    \n",
            "_________________________________________________________________\n",
            "dense_2 (Dense)              (None, 128)               32896     \n",
            "_________________________________________________________________\n",
            "dense_3 (Dense)              (None, 64)                8256      \n",
            "_________________________________________________________________\n",
            "dense_4 (Dense)              (None, 10)                650       \n",
            "=================================================================\n",
            "Total params: 575,050\n",
            "Trainable params: 575,050\n",
            "Non-trainable params: 0\n",
            "_________________________________________________________________\n"
          ],
          "name": "stdout"
        }
      ]
    },
    {
      "cell_type": "markdown",
      "metadata": {
        "id": "538_9WbGmp5a"
      },
      "source": [
        "# Compile model"
      ]
    },
    {
      "cell_type": "code",
      "metadata": {
        "id": "ck4tEWPMmG0j"
      },
      "source": [
        "model.compile(optimizer='adam', loss='categorical_crossentropy', metrics=['accuracy'])"
      ],
      "execution_count": 11,
      "outputs": []
    },
    {
      "cell_type": "markdown",
      "metadata": {
        "id": "9K6vJuam4ram"
      },
      "source": [
        "## 5. Run the same code without scaling the images, how the accuracy changes?\n",
        "---\n",
        "* without scaling :\n",
        "\n",
        "235/235 [==============================] - 15s 6ms/step - loss: 1.4895 - accuracy: 0.6081 - val_loss: 0.3592 - val_accuracy: 0.9143\n",
        "\n",
        "---\n",
        "* with scaling :\n",
        "\n",
        "235/235 [==============================] - 2s 7ms/step - loss: 1.7816 - accuracy: 0.4098 - val_loss: 0.4346 - val_accuracy: 0.8955\n",
        "\n"
      ]
    },
    {
      "cell_type": "markdown",
      "metadata": {
        "id": "Rs3XmHWgx8LS"
      },
      "source": [
        "# Fit model"
      ]
    },
    {
      "cell_type": "code",
      "metadata": {
        "id": "rsNP_elemr_i",
        "colab": {
          "base_uri": "https://localhost:8080/"
        },
        "outputId": "5ab56ec7-3446-45ce-d650-ee3b940d6305"
      },
      "source": [
        "history = model.fit(train_data, train_labels_one_hot, batch_size=256, epochs=10, verbose=1, validation_data=(test_data, test_labels_one_hot))"
      ],
      "execution_count": 12,
      "outputs": [
        {
          "output_type": "stream",
          "text": [
            "Epoch 1/10\n",
            "235/235 [==============================] - 15s 6ms/step - loss: 1.4895 - accuracy: 0.6081 - val_loss: 0.3592 - val_accuracy: 0.9143\n",
            "Epoch 2/10\n",
            "235/235 [==============================] - 1s 4ms/step - loss: 0.3320 - accuracy: 0.9153 - val_loss: 0.2697 - val_accuracy: 0.9270\n",
            "Epoch 3/10\n",
            "235/235 [==============================] - 1s 4ms/step - loss: 0.2533 - accuracy: 0.9288 - val_loss: 0.2334 - val_accuracy: 0.9325\n",
            "Epoch 4/10\n",
            "235/235 [==============================] - 1s 4ms/step - loss: 0.2344 - accuracy: 0.9325 - val_loss: 0.2155 - val_accuracy: 0.9370\n",
            "Epoch 5/10\n",
            "235/235 [==============================] - 1s 4ms/step - loss: 0.2076 - accuracy: 0.9385 - val_loss: 0.2071 - val_accuracy: 0.9379\n",
            "Epoch 6/10\n",
            "235/235 [==============================] - 1s 4ms/step - loss: 0.1995 - accuracy: 0.9406 - val_loss: 0.1873 - val_accuracy: 0.9448\n",
            "Epoch 7/10\n",
            "235/235 [==============================] - 1s 4ms/step - loss: 0.1832 - accuracy: 0.9438 - val_loss: 0.1856 - val_accuracy: 0.9439\n",
            "Epoch 8/10\n",
            "235/235 [==============================] - 1s 4ms/step - loss: 0.1776 - accuracy: 0.9457 - val_loss: 0.1981 - val_accuracy: 0.9375\n",
            "Epoch 9/10\n",
            "235/235 [==============================] - 1s 4ms/step - loss: 0.1760 - accuracy: 0.9453 - val_loss: 0.1834 - val_accuracy: 0.9440\n",
            "Epoch 10/10\n",
            "235/235 [==============================] - 1s 4ms/step - loss: 0.1728 - accuracy: 0.9474 - val_loss: 0.1719 - val_accuracy: 0.9481\n"
          ],
          "name": "stdout"
        }
      ]
    },
    {
      "cell_type": "code",
      "metadata": {
        "id": "8m3IoHX0Co2T",
        "colab": {
          "base_uri": "https://localhost:8080/",
          "height": 295
        },
        "outputId": "2cd1040f-8288-45e6-d83b-cf61907eb619"
      },
      "source": [
        "import matplotlib.pyplot as plt\n",
        "\n",
        "plt.plot(history.history['loss'],c='orange')\n",
        "plt.plot(history.history['val_loss'], c='green')\n",
        "plt.title('Model Loss')\n",
        "plt.ylabel('Loss')\n",
        "plt.xlabel('Epoch')\n",
        "plt.legend(['Train', 'Test'], loc='upper right')\n",
        "plt.show()"
      ],
      "execution_count": 13,
      "outputs": [
        {
          "output_type": "display_data",
          "data": {
            "image/png": "[encoded data removed]",
            "text/plain": [
              "<Figure size 432x288 with 1 Axes>"
            ]
          },
          "metadata": {
            "tags": [],
            "needs_background": "light"
          }
        }
      ]
    },
    {
      "cell_type": "code",
      "metadata": {
        "colab": {
          "base_uri": "https://localhost:8080/",
          "height": 295
        },
        "id": "ONLcjuv3yeqS",
        "outputId": "4765926d-1fb5-412c-84fa-676051cf1d68"
      },
      "source": [
        "plt.plot(history.history['accuracy'], c='red')\n",
        "plt.plot(history.history['val_accuracy'], c='yellow')\n",
        "plt.title('Model accuracy')\n",
        "plt.ylabel('Accuracy')\n",
        "plt.xlabel('Epoch')\n",
        "plt.legend(['Train', 'Test'], loc='upper left')\n",
        "plt.show()"
      ],
      "execution_count": 14,
      "outputs": [
        {
          "output_type": "display_data",
          "data": {
            "image/png": "[encoded data removed]",
            "text/plain": [
              "<Figure size 432x288 with 1 Axes>"
            ]
          },
          "metadata": {
            "tags": [],
            "needs_background": "light"
          }
        }
      ]
    },
    {
      "cell_type": "code",
      "metadata": {
        "id": "HGQS6dSF-7ZY",
        "colab": {
          "base_uri": "https://localhost:8080/",
          "height": 281
        },
        "outputId": "9bbdc668-be65-49a8-977d-b7006df860c0"
      },
      "source": [
        "# plt.imshow(test_data[0].reshape([28,28])) # test_images.reshape(test_images.shape[0],dimData)\n",
        "plt.imshow(test_images[9])"
      ],
      "execution_count": 15,
      "outputs": [
        {
          "output_type": "execute_result",
          "data": {
            "text/plain": [
              "<matplotlib.image.AxesImage at 0x7f01ce0f0050>"
            ]
          },
          "metadata": {
            "tags": []
          },
          "execution_count": 15
        },
        {
          "output_type": "display_data",
          "data": {
            "image/png": "[encoded data removed]",
            "text/plain": [
              "<Figure size 432x288 with 1 Axes>"
            ]
          },
          "metadata": {
            "tags": [],
            "needs_background": "light"
          }
        }
      ]
    },
    {
      "cell_type": "code",
      "metadata": {
        "id": "BDSgsMaR_52G",
        "colab": {
          "base_uri": "https://localhost:8080/"
        },
        "outputId": "aafb1b25-6d8f-4f83-f9fb-0ee7be060cf7"
      },
      "source": [
        "res = model.predict(test_data[9:10])\n",
        "print(\"The predicted image for test data is\", res)"
      ],
      "execution_count": 16,
      "outputs": [
        {
          "output_type": "stream",
          "text": [
            "The predicted image for test data is [[8.4110157e-05 4.2253814e-05 4.2353946e-05 1.6932357e-04 1.1822089e-02\n",
            "  2.4861100e-04 3.3902825e-06 1.8483601e-03 1.0388863e-03 9.8470068e-01]]\n"
          ],
          "name": "stdout"
        }
      ]
    },
    {
      "cell_type": "code",
      "metadata": {
        "id": "2zY6OZMvA-Mj",
        "colab": {
          "base_uri": "https://localhost:8080/"
        },
        "outputId": "c0c21d7a-8089-4374-c88c-8bc4fd9c49ed"
      },
      "source": [
        "#print(res)\n",
        "print(res.argmax()) # Returns the indices of the maximum values along an axis."
      ],
      "execution_count": 17,
      "outputs": [
        {
          "output_type": "stream",
          "text": [
            "9\n"
          ],
          "name": "stdout"
        }
      ]
    },
    {
      "cell_type": "markdown",
      "metadata": {
        "id": "RAGzYhPksS6t"
      },
      "source": [
        "convert the model to API model"
      ]
    },
    {
      "cell_type": "code",
      "metadata": {
        "id": "PSFnqdOcmNGz"
      },
      "source": [
        "from keras.models import Model\n",
        "from keras.layers import Input\n",
        "\n",
        "i = Input(shape=(784,))\n",
        "x = Dense(256, activation='relu')(i)\n",
        "x = Dense(128, activation='relu')(x)\n",
        "x = Dense(10, activation='sigmoid')(x)\n",
        "modell = Model(inputs=i,outputs=x)\n",
        "\n",
        "#compile\n",
        "modell.compile(optimizer='adam', loss='categorical_crossentropy', metrics=['accuracy'])"
      ],
      "execution_count": 18,
      "outputs": []
    },
    {
      "cell_type": "code",
      "metadata": {
        "colab": {
          "base_uri": "https://localhost:8080/"
        },
        "id": "2WMvb9nLsQ6u",
        "outputId": "bf868687-58b9-4755-eb3c-4d7b487b40d6"
      },
      "source": [
        "#fit the model\n",
        "history1 = modell.fit(train_data, train_labels_one_hot, batch_size=256, epochs=5, verbose=1, validation_data=(test_data, test_labels_one_hot))"
      ],
      "execution_count": 19,
      "outputs": [
        {
          "output_type": "stream",
          "text": [
            "Epoch 1/5\n",
            "235/235 [==============================] - 2s 5ms/step - loss: 8.1524 - accuracy: 0.7977 - val_loss: 0.8387 - val_accuracy: 0.9077\n",
            "Epoch 2/5\n",
            "235/235 [==============================] - 1s 4ms/step - loss: 0.5326 - accuracy: 0.9323 - val_loss: 0.5171 - val_accuracy: 0.9306\n",
            "Epoch 3/5\n",
            "235/235 [==============================] - 1s 4ms/step - loss: 0.2781 - accuracy: 0.9525 - val_loss: 0.4138 - val_accuracy: 0.9346\n",
            "Epoch 4/5\n",
            "235/235 [==============================] - 1s 4ms/step - loss: 0.1695 - accuracy: 0.9631 - val_loss: 0.3527 - val_accuracy: 0.9430\n",
            "Epoch 5/5\n",
            "235/235 [==============================] - 1s 4ms/step - loss: 0.1189 - accuracy: 0.9719 - val_loss: 0.3197 - val_accuracy: 0.9524\n"
          ],
          "name": "stdout"
        }
      ]
    },
    {
      "cell_type": "code",
      "metadata": {
        "colab": {
          "base_uri": "https://localhost:8080/"
        },
        "id": "dl53MzIvszVm",
        "outputId": "3e2a3ceb-cb70-410f-adad-da364ba7a917"
      },
      "source": [
        "#API model summary\n",
        "modell.summary() "
      ],
      "execution_count": 20,
      "outputs": [
        {
          "output_type": "stream",
          "text": [
            "Model: \"model\"\n",
            "_________________________________________________________________\n",
            "Layer (type)                 Output Shape              Param #   \n",
            "=================================================================\n",
            "input_1 (InputLayer)         [(None, 784)]             0         \n",
            "_________________________________________________________________\n",
            "dense_5 (Dense)              (None, 256)               200960    \n",
            "_________________________________________________________________\n",
            "dense_6 (Dense)              (None, 128)               32896     \n",
            "_________________________________________________________________\n",
            "dense_7 (Dense)              (None, 10)                1290      \n",
            "=================================================================\n",
            "Total params: 235,146\n",
            "Trainable params: 235,146\n",
            "Non-trainable params: 0\n",
            "_________________________________________________________________\n"
          ],
          "name": "stdout"
        }
      ]
    },
    {
      "cell_type": "code",
      "metadata": {
        "colab": {
          "base_uri": "https://localhost:8080/",
          "height": 295
        },
        "id": "idhDvE0ato9N",
        "outputId": "5b6736da-8fd8-4f1f-bc19-4347c3129141"
      },
      "source": [
        "#plot the API model\n",
        "plt.plot(history1.history['loss'])\n",
        "plt.plot(history1.history['val_loss'])\n",
        "plt.plot(history1.history['accuracy'])\n",
        "plt.plot(history1.history['val_accuracy'])\n",
        "plt.title('Model Loss')\n",
        "plt.ylabel('Loss')\n",
        "plt.xlabel('Epoch')\n",
        "plt.legend(['loss', 'val_loss', 'accuracy', 'val_accuracy'], loc='right')\n",
        "plt.show()"
      ],
      "execution_count": 21,
      "outputs": [
        {
          "output_type": "display_data",
          "data": {
            "image/png": "[encoded data removed]",
            "text/plain": [
              "<Figure size 432x288 with 1 Axes>"
            ]
          },
          "metadata": {
            "tags": [],
            "needs_background": "light"
          }
        }
      ]
    }
  ]
}