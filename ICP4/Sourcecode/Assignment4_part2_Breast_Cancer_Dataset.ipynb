{
  "nbformat": 4,
  "nbformat_minor": 0,
  "metadata": {
    "colab": {
      "name": "Assignment4_part2_Breast_Cancer_Dataset.ipynb",
      "provenance": []
    },
    "kernelspec": {
      "name": "python3",
      "display_name": "Python 3"
    },
    "language_info": {
      "name": "python"
    }
  },
  "cells": [
    {
      "cell_type": "code",
      "metadata": {
        "id": "knBeZQ6YV0Ld"
      },
      "source": [
        "import pandas\n",
        "from keras.models import Sequential, Model\n",
        "from keras.layers.core import Dense, Activation\n",
        "\n",
        "# load dataset\n",
        "from sklearn.model_selection import train_test_split\n",
        "import pandas as pd\n",
        "import numpy as np\n",
        "from matplotlib import pyplot as plt"
      ],
      "execution_count": 101,
      "outputs": []
    },
    {
      "cell_type": "code",
      "metadata": {
        "id": "C-Ag9-EnXPJn"
      },
      "source": [
        "# Reads .csv file as Numpy Ndarray\n",
        "dataset = pd.read_csv(\"/content/BreasCancer.csv\") # Reads .csv file as DataFrame.\n",
        "\n",
        "#dataset = pd.read_csv(\"/content/BreasCancer.csv\", header=None).values"
      ],
      "execution_count": 102,
      "outputs": []
    },
    {
      "cell_type": "code",
      "metadata": {
        "colab": {
          "base_uri": "https://localhost:8080/"
        },
        "id": "EDBZep90XO0-",
        "outputId": "8df6f32a-8201-4fc1-c892-bda5dc5a134a"
      },
      "source": [
        "#print Datatype and the sape of the data\n",
        "print(type(dataset))\n",
        "print(dataset.shape)"
      ],
      "execution_count": 103,
      "outputs": [
        {
          "output_type": "stream",
          "text": [
            "<class 'pandas.core.frame.DataFrame'>\n",
            "(569, 33)\n"
          ],
          "name": "stdout"
        }
      ]
    },
    {
      "cell_type": "code",
      "metadata": {
        "colab": {
          "base_uri": "https://localhost:8080/"
        },
        "id": "a_FHKfF1rWUH",
        "outputId": "b204e852-2444-4f2d-f8f2-a6329b24ec1d"
      },
      "source": [
        "#Because the id and diagnosis values not float, I got the following error \"Cast string to float is not supported\"\n",
        "#Therefore: \n",
        "# I dropped id attribute\n",
        "dataset = dataset.drop(columns = 'id')\n",
        "# I changed diagnosis values to 1 and 0\n",
        "dataset['diagnosis'] = dataset['diagnosis'].map({'B': 1, 'M': 0}).astype(int)\n",
        "dataset = dataset.values\n",
        "print(dataset)"
      ],
      "execution_count": 104,
      "outputs": [
        {
          "output_type": "stream",
          "text": [
            "[[ 0.      17.99    10.38    ...  0.4601   0.1189       nan]\n",
            " [ 0.      20.57    17.77    ...  0.275    0.08902      nan]\n",
            " [ 0.      19.69    21.25    ...  0.3613   0.08758      nan]\n",
            " ...\n",
            " [ 0.      16.6     28.08    ...  0.2218   0.0782       nan]\n",
            " [ 0.      20.6     29.33    ...  0.4087   0.124        nan]\n",
            " [ 1.       7.76    24.54    ...  0.2871   0.07039      nan]]\n"
          ],
          "name": "stdout"
        }
      ]
    },
    {
      "cell_type": "code",
      "metadata": {
        "id": "K8AE75HkhALM",
        "colab": {
          "base_uri": "https://localhost:8080/"
        },
        "outputId": "132c51be-0f7d-4d42-8086-8ab710222804"
      },
      "source": [
        "#Normalizing the data\n",
        "from sklearn.preprocessing import StandardScaler \n",
        "sc = StandardScaler()\n",
        "scdataset= sc.fit_transform(dataset)"
      ],
      "execution_count": 105,
      "outputs": [
        {
          "output_type": "stream",
          "text": [
            "/usr/local/lib/python3.7/dist-packages/sklearn/utils/extmath.py:765: RuntimeWarning: invalid value encountered in true_divide\n",
            "  updated_mean = (last_sum + new_sum) / updated_sample_count\n",
            "/usr/local/lib/python3.7/dist-packages/sklearn/utils/extmath.py:706: RuntimeWarning: Degrees of freedom <= 0 for slice.\n",
            "  result = op(x, *args, **kwargs)\n"
          ],
          "name": "stderr"
        }
      ]
    },
    {
      "cell_type": "code",
      "metadata": {
        "colab": {
          "base_uri": "https://localhost:8080/"
        },
        "id": "lNwANqoMXOpB",
        "outputId": "ca97f8a5-f1c6-4b2a-f59e-8e07b7a4bf56"
      },
      "source": [
        " #splitting the data after using StandardScaler\n",
        "X_train, X_test, Y_train, Y_test = train_test_split(scdataset[:,0:8], scdataset[:,8], test_size=0.25, random_state=22)\n",
        "\n",
        "\n",
        "# Last column is our target [0, 1]\n",
        "#X_train, X_test, Y_train, Y_test = train_test_split(dataset[:,0:8], dataset[:,8], test_size=0.25, random_state=22)\n",
        "\n",
        "print(\"X_train.shape: \", X_train.shape)\n",
        "print(\"Y_train.shape: \", Y_train.shape)\n",
        "print(\"X_test.shape: \", X_test.shape)\n",
        "print(\"Y_test.shape: \", Y_test.shape)"
      ],
      "execution_count": 106,
      "outputs": [
        {
          "output_type": "stream",
          "text": [
            "X_train.shape:  (426, 8)\n",
            "Y_train.shape:  (426,)\n",
            "X_test.shape:  (143, 8)\n",
            "Y_test.shape:  (143,)\n"
          ],
          "name": "stdout"
        }
      ]
    },
    {
      "cell_type": "code",
      "metadata": {
        "colab": {
          "base_uri": "https://localhost:8080/"
        },
        "id": "E7b3mtO4crEN",
        "outputId": "8e9b3ccc-3026-419c-8a54-d77dd84db544"
      },
      "source": [
        "my_first_nn = Sequential() # create a Sequential model\n",
        "\n",
        "my_first_nn.add(Dense(40, input_dim=8, activation='relu')) # hidden layer\n",
        "my_first_nn.add(Dense(60, input_dim=8, activation='relu')) # more Dense layer\n",
        "#my_first_nn.add(Dense(20, input_dim=8, activation='relu')) # more Dense layer\n",
        "\n",
        "my_first_nn.add(Dense(1, activation='sigmoid')) # output layer (WHY 'sigmoid function!!!')\n",
        "\n",
        "my_first_nn.compile(loss='binary_crossentropy', optimizer='adam', metrics=['acc'])\n",
        "\n",
        "print(my_first_nn.summary())\n",
        "\n",
        "# The returned history object holds a record of the loss values and metric values during training\n",
        "history =  my_first_nn_fitted = my_first_nn.fit(X_train, Y_train, epochs=50, verbose=1, shuffle=True, validation_data=(X_test, Y_test))\n"
      ],
      "execution_count": 107,
      "outputs": [
        {
          "output_type": "stream",
          "text": [
            "Model: \"sequential_19\"\n",
            "_________________________________________________________________\n",
            "Layer (type)                 Output Shape              Param #   \n",
            "=================================================================\n",
            "dense_62 (Dense)             (None, 40)                360       \n",
            "_________________________________________________________________\n",
            "dense_63 (Dense)             (None, 60)                2460      \n",
            "_________________________________________________________________\n",
            "dense_64 (Dense)             (None, 1)                 61        \n",
            "=================================================================\n",
            "Total params: 2,881\n",
            "Trainable params: 2,881\n",
            "Non-trainable params: 0\n",
            "_________________________________________________________________\n",
            "None\n",
            "Epoch 1/50\n",
            "14/14 [==============================] - 1s 20ms/step - loss: 0.4121 - acc: 0.0000e+00 - val_loss: -0.1735 - val_acc: 0.0000e+00\n",
            "Epoch 2/50\n",
            "14/14 [==============================] - 0s 5ms/step - loss: -0.2810 - acc: 0.0000e+00 - val_loss: -0.9371 - val_acc: 0.0000e+00\n",
            "Epoch 3/50\n",
            "14/14 [==============================] - 0s 4ms/step - loss: -1.0002 - acc: 0.0000e+00 - val_loss: -1.8847 - val_acc: 0.0000e+00\n",
            "Epoch 4/50\n",
            "14/14 [==============================] - 0s 4ms/step - loss: -1.7907 - acc: 0.0000e+00 - val_loss: -3.1951 - val_acc: 0.0000e+00\n",
            "Epoch 5/50\n",
            "14/14 [==============================] - 0s 4ms/step - loss: -3.1899 - acc: 0.0000e+00 - val_loss: -5.0944 - val_acc: 0.0000e+00\n",
            "Epoch 6/50\n",
            "14/14 [==============================] - 0s 3ms/step - loss: -5.0747 - acc: 0.0000e+00 - val_loss: -7.7682 - val_acc: 0.0000e+00\n",
            "Epoch 7/50\n",
            "14/14 [==============================] - 0s 4ms/step - loss: -7.4069 - acc: 0.0000e+00 - val_loss: -11.5084 - val_acc: 0.0000e+00\n",
            "Epoch 8/50\n",
            "14/14 [==============================] - 0s 3ms/step - loss: -10.6587 - acc: 0.0000e+00 - val_loss: -16.6166 - val_acc: 0.0000e+00\n",
            "Epoch 9/50\n",
            "14/14 [==============================] - 0s 5ms/step - loss: -16.0752 - acc: 0.0000e+00 - val_loss: -23.4550 - val_acc: 0.0000e+00\n",
            "Epoch 10/50\n",
            "14/14 [==============================] - 0s 3ms/step - loss: -21.3325 - acc: 0.0000e+00 - val_loss: -32.2367 - val_acc: 0.0000e+00\n",
            "Epoch 11/50\n",
            "14/14 [==============================] - 0s 3ms/step - loss: -31.4815 - acc: 0.0000e+00 - val_loss: -43.2807 - val_acc: 0.0000e+00\n",
            "Epoch 12/50\n",
            "14/14 [==============================] - 0s 4ms/step - loss: -40.9908 - acc: 0.0000e+00 - val_loss: -56.7468 - val_acc: 0.0000e+00\n",
            "Epoch 13/50\n",
            "14/14 [==============================] - 0s 4ms/step - loss: -52.2710 - acc: 0.0000e+00 - val_loss: -73.1070 - val_acc: 0.0000e+00\n",
            "Epoch 14/50\n",
            "14/14 [==============================] - 0s 3ms/step - loss: -64.5201 - acc: 0.0000e+00 - val_loss: -92.5472 - val_acc: 0.0000e+00\n",
            "Epoch 15/50\n",
            "14/14 [==============================] - 0s 5ms/step - loss: -89.1478 - acc: 0.0000e+00 - val_loss: -116.1088 - val_acc: 0.0000e+00\n",
            "Epoch 16/50\n",
            "14/14 [==============================] - 0s 3ms/step - loss: -109.1942 - acc: 0.0000e+00 - val_loss: -142.1922 - val_acc: 0.0000e+00\n",
            "Epoch 17/50\n",
            "14/14 [==============================] - 0s 3ms/step - loss: -133.6237 - acc: 0.0000e+00 - val_loss: -172.3849 - val_acc: 0.0000e+00\n",
            "Epoch 18/50\n",
            "14/14 [==============================] - 0s 4ms/step - loss: -151.9022 - acc: 0.0000e+00 - val_loss: -206.0532 - val_acc: 0.0000e+00\n",
            "Epoch 19/50\n",
            "14/14 [==============================] - 0s 3ms/step - loss: -186.7314 - acc: 0.0000e+00 - val_loss: -246.1127 - val_acc: 0.0000e+00\n",
            "Epoch 20/50\n",
            "14/14 [==============================] - 0s 3ms/step - loss: -233.1356 - acc: 0.0000e+00 - val_loss: -290.5457 - val_acc: 0.0000e+00\n",
            "Epoch 21/50\n",
            "14/14 [==============================] - 0s 3ms/step - loss: -245.5723 - acc: 0.0000e+00 - val_loss: -339.1449 - val_acc: 0.0000e+00\n",
            "Epoch 22/50\n",
            "14/14 [==============================] - 0s 4ms/step - loss: -277.2186 - acc: 0.0000e+00 - val_loss: -392.3664 - val_acc: 0.0000e+00\n",
            "Epoch 23/50\n",
            "14/14 [==============================] - 0s 3ms/step - loss: -374.3860 - acc: 0.0000e+00 - val_loss: -453.7766 - val_acc: 0.0000e+00\n",
            "Epoch 24/50\n",
            "14/14 [==============================] - 0s 4ms/step - loss: -404.7301 - acc: 0.0000e+00 - val_loss: -519.3492 - val_acc: 0.0000e+00\n",
            "Epoch 25/50\n",
            "14/14 [==============================] - 0s 4ms/step - loss: -467.0002 - acc: 0.0000e+00 - val_loss: -591.2198 - val_acc: 0.0000e+00\n",
            "Epoch 26/50\n",
            "14/14 [==============================] - 0s 3ms/step - loss: -504.6658 - acc: 0.0000e+00 - val_loss: -668.9276 - val_acc: 0.0000e+00\n",
            "Epoch 27/50\n",
            "14/14 [==============================] - 0s 3ms/step - loss: -600.1580 - acc: 0.0000e+00 - val_loss: -753.2332 - val_acc: 0.0000e+00\n",
            "Epoch 28/50\n",
            "14/14 [==============================] - 0s 4ms/step - loss: -701.9106 - acc: 0.0000e+00 - val_loss: -844.0001 - val_acc: 0.0000e+00\n",
            "Epoch 29/50\n",
            "14/14 [==============================] - 0s 3ms/step - loss: -738.3154 - acc: 0.0000e+00 - val_loss: -939.7626 - val_acc: 0.0000e+00\n",
            "Epoch 30/50\n",
            "14/14 [==============================] - 0s 4ms/step - loss: -788.6679 - acc: 0.0000e+00 - val_loss: -1042.0393 - val_acc: 0.0000e+00\n",
            "Epoch 31/50\n",
            "14/14 [==============================] - 0s 3ms/step - loss: -851.6607 - acc: 0.0000e+00 - val_loss: -1151.8047 - val_acc: 0.0000e+00\n",
            "Epoch 32/50\n",
            "14/14 [==============================] - 0s 3ms/step - loss: -988.2191 - acc: 0.0000e+00 - val_loss: -1272.8459 - val_acc: 0.0000e+00\n",
            "Epoch 33/50\n",
            "14/14 [==============================] - 0s 5ms/step - loss: -1199.9849 - acc: 0.0000e+00 - val_loss: -1400.3203 - val_acc: 0.0000e+00\n",
            "Epoch 34/50\n",
            "14/14 [==============================] - 0s 3ms/step - loss: -1279.4296 - acc: 0.0000e+00 - val_loss: -1536.2970 - val_acc: 0.0000e+00\n",
            "Epoch 35/50\n",
            "14/14 [==============================] - 0s 4ms/step - loss: -1307.9327 - acc: 0.0000e+00 - val_loss: -1677.5060 - val_acc: 0.0000e+00\n",
            "Epoch 36/50\n",
            "14/14 [==============================] - 0s 3ms/step - loss: -1461.2282 - acc: 0.0000e+00 - val_loss: -1833.3745 - val_acc: 0.0000e+00\n",
            "Epoch 37/50\n",
            "14/14 [==============================] - 0s 3ms/step - loss: -1655.8516 - acc: 0.0000e+00 - val_loss: -2000.2087 - val_acc: 0.0000e+00\n",
            "Epoch 38/50\n",
            "14/14 [==============================] - 0s 4ms/step - loss: -1716.7229 - acc: 0.0000e+00 - val_loss: -2169.4783 - val_acc: 0.0000e+00\n",
            "Epoch 39/50\n",
            "14/14 [==============================] - 0s 4ms/step - loss: -1862.4227 - acc: 0.0000e+00 - val_loss: -2350.1140 - val_acc: 0.0000e+00\n",
            "Epoch 40/50\n",
            "14/14 [==============================] - 0s 4ms/step - loss: -2242.9147 - acc: 0.0000e+00 - val_loss: -2540.1255 - val_acc: 0.0000e+00\n",
            "Epoch 41/50\n",
            "14/14 [==============================] - 0s 4ms/step - loss: -2134.4226 - acc: 0.0000e+00 - val_loss: -2732.7988 - val_acc: 0.0000e+00\n",
            "Epoch 42/50\n",
            "14/14 [==============================] - 0s 3ms/step - loss: -2483.4212 - acc: 0.0000e+00 - val_loss: -2942.3757 - val_acc: 0.0000e+00\n",
            "Epoch 43/50\n",
            "14/14 [==============================] - 0s 3ms/step - loss: -2595.7846 - acc: 0.0000e+00 - val_loss: -3155.9011 - val_acc: 0.0000e+00\n",
            "Epoch 44/50\n",
            "14/14 [==============================] - 0s 4ms/step - loss: -2834.4375 - acc: 0.0000e+00 - val_loss: -3377.2859 - val_acc: 0.0000e+00\n",
            "Epoch 45/50\n",
            "14/14 [==============================] - 0s 5ms/step - loss: -2984.2734 - acc: 0.0000e+00 - val_loss: -3611.8699 - val_acc: 0.0000e+00\n",
            "Epoch 46/50\n",
            "14/14 [==============================] - 0s 3ms/step - loss: -3284.6587 - acc: 0.0000e+00 - val_loss: -3854.4082 - val_acc: 0.0000e+00\n",
            "Epoch 47/50\n",
            "14/14 [==============================] - 0s 4ms/step - loss: -3189.5682 - acc: 0.0000e+00 - val_loss: -4100.8838 - val_acc: 0.0000e+00\n",
            "Epoch 48/50\n",
            "14/14 [==============================] - 0s 3ms/step - loss: -3790.5192 - acc: 0.0000e+00 - val_loss: -4366.0874 - val_acc: 0.0000e+00\n",
            "Epoch 49/50\n",
            "14/14 [==============================] - 0s 3ms/step - loss: -3769.8762 - acc: 0.0000e+00 - val_loss: -4638.7432 - val_acc: 0.0000e+00\n",
            "Epoch 50/50\n",
            "14/14 [==============================] - 0s 3ms/step - loss: -4025.5838 - acc: 0.0000e+00 - val_loss: -4920.1123 - val_acc: 0.0000e+00\n"
          ],
          "name": "stdout"
        }
      ]
    },
    {
      "cell_type": "code",
      "metadata": {
        "colab": {
          "base_uri": "https://localhost:8080/",
          "height": 295
        },
        "id": "mzKsKtttcrIU",
        "outputId": "38d5d81f-8304-4b29-8e9c-2640ac33dc29"
      },
      "source": [
        "plt.plot(history.history['acc'])\n",
        "plt.title('Model Training Accuracy')\n",
        "plt.ylabel('accuracy')\n",
        "plt.xlabel('epoch')\n",
        "plt.legend(['train'], loc='upper left')\n",
        "plt.show()"
      ],
      "execution_count": 108,
      "outputs": [
        {
          "output_type": "display_data",
          "data": {
            "image/png": "[encoded data removed]",
            "text/plain": [
              "<Figure size 432x288 with 1 Axes>"
            ]
          },
          "metadata": {
            "tags": [],
            "needs_background": "light"
          }
        }
      ]
    },
    {
      "cell_type": "code",
      "metadata": {
        "colab": {
          "base_uri": "https://localhost:8080/"
        },
        "id": "-LwLTq_z03bb",
        "outputId": "9aa1aff0-e236-46cf-c5f2-897610810434"
      },
      "source": [
        "#Evaluate the model\n",
        "print(my_first_nn.evaluate(X_test, Y_test))"
      ],
      "execution_count": 109,
      "outputs": [
        {
          "output_type": "stream",
          "text": [
            "5/5 [==============================] - 0s 2ms/step - loss: -4920.1123 - acc: 0.0000e+00\n",
            "[-4920.1123046875, 0.0]\n"
          ],
          "name": "stdout"
        }
      ]
    }
  ]
}