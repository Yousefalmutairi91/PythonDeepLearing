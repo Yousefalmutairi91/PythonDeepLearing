{
  "nbformat": 4,
  "nbformat_minor": 0,
  "metadata": {
    "accelerator": "GPU",
    "colab": {
      "name": "text_classification1.ipynb",
      "provenance": [],
      "collapsed_sections": []
    },
    "kernelspec": {
      "display_name": "Python 3",
      "name": "python3"
    }
  },
  "cells": [
    {
      "cell_type": "code",
      "metadata": {
        "id": "YZ6pNkwj5bPf"
      },
      "source": [
        "#import needed libraries\n",
        "from sklearn.datasets import fetch_20newsgroups\n",
        "from sklearn.feature_extraction.text import CountVectorizer, TfidfVectorizer\n",
        "from sklearn.feature_extraction.text import TfidfTransformer\n",
        "from sklearn import metrics\n",
        "from sklearn.pipeline import Pipeline\n",
        "from sklearn.naive_bayes import MultinomialNB\n",
        "from sklearn.svm import SVC, LinearSVC\n",
        "from sklearn.neighbors import KNeighborsClassifier\n",
        "from sklearn.metrics import accuracy_score, classification_report"
      ],
      "execution_count": 1,
      "outputs": []
    },
    {
      "cell_type": "code",
      "metadata": {
        "id": "rDJ_LuMK56-F"
      },
      "source": [
        "twenty_train = fetch_20newsgroups(subset='train', shuffle=True)"
      ],
      "execution_count": 2,
      "outputs": []
    },
    {
      "cell_type": "code",
      "metadata": {
        "colab": {
          "base_uri": "https://localhost:8080/"
        },
        "id": "QF61mPSh59hT",
        "outputId": "a6b5e12c-3be2-4213-cd9c-cace83251946"
      },
      "source": [
        "tfidf_Vect = TfidfVectorizer()\n",
        "X_train_tfidf = tfidf_Vect.fit_transform(twenty_train.data)\n",
        "clf = MultinomialNB()\n",
        "clf.fit(X_train_tfidf, twenty_train.target)"
      ],
      "execution_count": 4,
      "outputs": [
        {
          "output_type": "execute_result",
          "data": {
            "text/plain": [
              "MultinomialNB(alpha=1.0, class_prior=None, fit_prior=True)"
            ]
          },
          "metadata": {
            "tags": []
          },
          "execution_count": 4
        }
      ]
    },
    {
      "cell_type": "code",
      "metadata": {
        "id": "8ssbDU7p6AWH"
      },
      "source": [
        "twenty_test = fetch_20newsgroups(subset='test', shuffle=True)\n",
        "X_test_tfidf = tfidf_Vect.transform(twenty_test.data)"
      ],
      "execution_count": 5,
      "outputs": []
    },
    {
      "cell_type": "code",
      "metadata": {
        "id": "sjVlq5up6F3R"
      },
      "source": [
        "predicted = clf.predict(X_test_tfidf)"
      ],
      "execution_count": 6,
      "outputs": []
    },
    {
      "cell_type": "code",
      "metadata": {
        "colab": {
          "base_uri": "https://localhost:8080/"
        },
        "id": "otpRw9oQ6H7Z",
        "outputId": "6b3df422-39cf-454f-b370-d48a725a0c73"
      },
      "source": [
        "score = metrics.accuracy_score(twenty_test.target, predicted)\n",
        "print(score)"
      ],
      "execution_count": 7,
      "outputs": [
        {
          "output_type": "stream",
          "text": [
            "0.7738980350504514\n"
          ],
          "name": "stdout"
        }
      ]
    },
    {
      "cell_type": "code",
      "metadata": {
        "id": "Av_UtpZa7Dsu",
        "colab": {
          "base_uri": "https://localhost:8080/"
        },
        "outputId": "be24149c-7415-444b-8bb6-15cd2bba5809"
      },
      "source": [
        "#a : SVC accuracy score\n",
        "svc = SVC()\n",
        "svc.fit(X_train_tfidf, twenty_train.target)\n",
        "Y_pred_svc = svc.predict(X_test_tfidf)\n",
        "acc_svc = round(svc.score(X_train_tfidf, twenty_train.target) * 100, 2)\n",
        "print(\"SVC accuracy is: \",acc_svc)\n",
        "print(classification_report(twenty_test.target, Y_pred_svc))"
      ],
      "execution_count": 8,
      "outputs": [
        {
          "output_type": "stream",
          "text": [
            "SVC accuracy is:  99.78\n",
            "              precision    recall  f1-score   support\n",
            "\n",
            "           0       0.83      0.71      0.76       319\n",
            "           1       0.62      0.82      0.71       389\n",
            "           2       0.80      0.70      0.75       394\n",
            "           3       0.73      0.78      0.76       392\n",
            "           4       0.82      0.83      0.82       385\n",
            "           5       0.83      0.73      0.77       395\n",
            "           6       0.73      0.91      0.81       390\n",
            "           7       0.90      0.87      0.89       396\n",
            "           8       0.96      0.93      0.95       398\n",
            "           9       0.88      0.91      0.90       397\n",
            "          10       0.97      0.91      0.94       399\n",
            "          11       0.96      0.85      0.90       396\n",
            "          12       0.65      0.85      0.74       393\n",
            "          13       0.88      0.78      0.82       396\n",
            "          14       0.93      0.88      0.90       394\n",
            "          15       0.79      0.92      0.85       398\n",
            "          16       0.75      0.88      0.81       364\n",
            "          17       0.97      0.81      0.88       376\n",
            "          18       0.75      0.59      0.66       310\n",
            "          19       0.79      0.55      0.65       251\n",
            "\n",
            "    accuracy                           0.82      7532\n",
            "   macro avg       0.83      0.81      0.81      7532\n",
            "weighted avg       0.83      0.82      0.82      7532\n",
            "\n"
          ],
          "name": "stdout"
        }
      ]
    },
    {
      "cell_type": "code",
      "metadata": {
        "colab": {
          "base_uri": "https://localhost:8080/"
        },
        "id": "CSH8G8-w66jo",
        "outputId": "f069e929-0c32-4038-d6f9-3bd052eb64fd"
      },
      "source": [
        "#b : KNeighborsClassifier accuracy score\n",
        "knn = KNeighborsClassifier(n_neighbors = 3)\n",
        "knn.fit(X_train_tfidf, twenty_train.target)\n",
        "Y_pred = knn.predict(X_test_tfidf)\n",
        "acc_knn = round(knn.score(X_train_tfidf, twenty_train.target) * 100, 2)\n",
        "print(\"KNN accuracy is:\",acc_knn)\n",
        "print(classification_report(twenty_test.target, Y_pred))"
      ],
      "execution_count": 9,
      "outputs": [
        {
          "output_type": "stream",
          "text": [
            "KNN accuracy is: 91.05\n",
            "              precision    recall  f1-score   support\n",
            "\n",
            "           0       0.43      0.75      0.54       319\n",
            "           1       0.45      0.65      0.53       389\n",
            "           2       0.52      0.56      0.54       394\n",
            "           3       0.52      0.62      0.57       392\n",
            "           4       0.55      0.58      0.56       385\n",
            "           5       0.69      0.59      0.64       395\n",
            "           6       0.59      0.48      0.53       390\n",
            "           7       0.75      0.68      0.71       396\n",
            "           8       0.83      0.80      0.82       398\n",
            "           9       0.77      0.75      0.76       397\n",
            "          10       0.88      0.82      0.85       399\n",
            "          11       0.74      0.83      0.78       396\n",
            "          12       0.72      0.47      0.57       393\n",
            "          13       0.78      0.51      0.62       396\n",
            "          14       0.81      0.77      0.79       394\n",
            "          15       0.80      0.72      0.76       398\n",
            "          16       0.72      0.72      0.72       364\n",
            "          17       0.70      0.72      0.71       376\n",
            "          18       0.60      0.56      0.58       310\n",
            "          19       0.62      0.51      0.56       251\n",
            "\n",
            "    accuracy                           0.66      7532\n",
            "   macro avg       0.67      0.65      0.66      7532\n",
            "weighted avg       0.68      0.66      0.66      7532\n",
            "\n"
          ],
          "name": "stdout"
        }
      ]
    },
    {
      "cell_type": "code",
      "metadata": {
        "id": "C5NoNjT50-fR"
      },
      "source": [
        "# #tfidf vectorizer parameter\n",
        "#d) Set the tfidf vectorizer parameter to use bigram and see how the accuracy changes TfidfVectorizer(ngram_range=(1,2))\n",
        "\n",
        "tfidf_vectorizer = TfidfVectorizer(ngram_range=(1, 2))\n",
        "\n",
        "X_train_tfdif = tfidf_vectorizer.fit_transform(twenty_train.data)\n",
        "X_test_tfdif = tfidf_vectorizer.transform(twenty_test.data)"
      ],
      "execution_count": 10,
      "outputs": []
    },
    {
      "cell_type": "code",
      "metadata": {
        "id": "gtUiQZ1hBSgs",
        "colab": {
          "base_uri": "https://localhost:8080/"
        },
        "outputId": "0a35cde1-4342-4475-d4d0-dd626cccdf5a"
      },
      "source": [
        "#d : SVC accuracy score using TfidfVectorizer(ngram_range=(1,2))\n",
        "svc.fit(X_train_tfdif, twenty_train.target)\n",
        "Y_pred_svc1 = svc.predict(X_test_tfdif)\n",
        "acc_svc2 = round(svc.score(X_train_tfdif, twenty_train.target) * 100, 2)\n",
        "print(\"SVC accuracy using TfidfVectorizer (ngram_range=(1,2)): \",acc_svc2)\n",
        "print(classification_report(twenty_test.target, Y_pred_svc1))"
      ],
      "execution_count": 11,
      "outputs": [
        {
          "output_type": "stream",
          "text": [
            "SVC accuracy using TfidfVectorizer (ngram_range=(1,2)):  99.87\n",
            "              precision    recall  f1-score   support\n",
            "\n",
            "           0       0.84      0.73      0.78       319\n",
            "           1       0.54      0.81      0.65       389\n",
            "           2       0.80      0.69      0.74       394\n",
            "           3       0.70      0.80      0.75       392\n",
            "           4       0.82      0.81      0.82       385\n",
            "           5       0.84      0.71      0.77       395\n",
            "           6       0.74      0.91      0.81       390\n",
            "           7       0.88      0.87      0.88       396\n",
            "           8       0.96      0.93      0.94       398\n",
            "           9       0.89      0.90      0.89       397\n",
            "          10       0.95      0.91      0.93       399\n",
            "          11       0.96      0.84      0.90       396\n",
            "          12       0.63      0.80      0.70       393\n",
            "          13       0.86      0.72      0.79       396\n",
            "          14       0.91      0.87      0.89       394\n",
            "          15       0.72      0.92      0.81       398\n",
            "          16       0.76      0.87      0.81       364\n",
            "          17       0.98      0.77      0.86       376\n",
            "          18       0.79      0.59      0.68       310\n",
            "          19       0.84      0.47      0.60       251\n",
            "\n",
            "    accuracy                           0.80      7532\n",
            "   macro avg       0.82      0.80      0.80      7532\n",
            "weighted avg       0.82      0.80      0.81      7532\n",
            "\n"
          ],
          "name": "stdout"
        }
      ]
    },
    {
      "cell_type": "code",
      "metadata": {
        "id": "TTikVEoGr4DH"
      },
      "source": [
        "#e) Set tfidf vectorizer argument to use stop_words='english' and see how accuracy changes.\n",
        "tfidf_vectorizer2 = TfidfVectorizer(stop_words='english')\n",
        "\n",
        "X_train_tfdif_vectorizer = tfidf_vectorizer2.fit_transform(twenty_train.data)\n",
        "X_test_tfdif_vectorizer = tfidf_vectorizer2.transform(twenty_test.data)"
      ],
      "execution_count": 12,
      "outputs": []
    },
    {
      "cell_type": "code",
      "metadata": {
        "colab": {
          "base_uri": "https://localhost:8080/"
        },
        "id": "13sHHiY4TFdH",
        "outputId": "abaff2f1-3b7d-4e1f-8197-f25120ffd894"
      },
      "source": [
        "#e : KNeighborsClassifier accuracy score using tfidf vectorizer argument to use stop_words='english'\n",
        "knns = KNeighborsClassifier(n_neighbors = 3)\n",
        "knns.fit(X_train_tfdif_vectorizer, twenty_train.target)\n",
        "Y_pred2 = knns.predict(X_test_tfdif_vectorizer)\n",
        "acc_knn2 = round(knns.score(X_train_tfdif_vectorizer, twenty_train.target) * 100, 2)\n",
        "print(\"KNN accuracy using tfidf vectorizer stop_words:\",acc_knn2)\n",
        "print(classification_report(twenty_test.data, Y_pred2))"
      ],
      "execution_count": null,
      "outputs": [
        {
          "output_type": "stream",
          "text": [
            "KNN accuracy using tfidf vectorizer stop_words: 91.11\n"
          ],
          "name": "stdout"
        }
      ]
    }
  ]
}