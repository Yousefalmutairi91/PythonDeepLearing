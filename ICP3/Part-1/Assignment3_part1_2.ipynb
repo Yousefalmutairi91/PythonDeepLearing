{
  "nbformat": 4,
  "nbformat_minor": 0,
  "metadata": {
    "colab": {
      "name": "Assignment3_part1-2.ipynb",
      "provenance": []
    },
    "kernelspec": {
      "name": "python3",
      "display_name": "Python 3"
    },
    "language_info": {
      "name": "python"
    }
  },
  "cells": [
    {
      "cell_type": "markdown",
      "metadata": {
        "id": "PrW4frXT4mmG"
      },
      "source": [
        "# 3. Find top 5 most correlated features to the target label(revenue) and then build a model on top of those 5 features. Evaluate the model using MAE, MSE, RMSE and R2 score and then compare the result with the RMSE and R2 you achieved in question 2."
      ]
    },
    {
      "cell_type": "code",
      "metadata": {
        "id": "I66vIVcx4bBY"
      },
      "source": [
        "#import the libraries\n",
        "import pandas as pd\n",
        "import numpy as np\n",
        "import matplotlib.pyplot as plt\n",
        "from sklearn import metrics\n",
        "from sklearn.model_selection import train_test_split\n",
        "from sklearn import linear_model\n",
        "from sklearn.metrics import mean_absolute_error, r2_score, mean_squared_error\n",
        "import math"
      ],
      "execution_count": 6,
      "outputs": []
    },
    {
      "cell_type": "code",
      "metadata": {
        "colab": {
          "base_uri": "https://localhost:8080/"
        },
        "id": "2SvYQxmc41PY",
        "outputId": "f884c468-95be-4e86-cd1d-b43c33dc9a5a"
      },
      "source": [
        "# training data set\n",
        "train_resdata = pd.read_csv('rest_data.csv')\n",
        "\n",
        "print('The described data: ', '\\n', train_resdata.revenue.describe(), '\\n')"
      ],
      "execution_count": 7,
      "outputs": [
        {
          "output_type": "stream",
          "text": [
            "The described data:  \n",
            " count    1.370000e+02\n",
            "mean     4.453533e+06\n",
            "std      2.576072e+06\n",
            "min      1.149870e+06\n",
            "25%      2.999068e+06\n",
            "50%      3.939804e+06\n",
            "75%      5.166635e+06\n",
            "max      1.969694e+07\n",
            "Name: revenue, dtype: float64 \n",
            "\n"
          ],
          "name": "stdout"
        }
      ]
    },
    {
      "cell_type": "code",
      "metadata": {
        "colab": {
          "base_uri": "https://localhost:8080/"
        },
        "id": "ZIufnbfK6g_A",
        "outputId": "0f49dc9e-4b58-4854-ac2d-7247dc97fd01"
      },
      "source": [
        "#handling missing value\n",
        "data1 = train_resdata.select_dtypes(include=[np.number]).interpolate().dropna()\n",
        "\n",
        "#correlation\n",
        "corr = data1.corr()\n",
        "print('Top Five Correlation: ', '\\n', corr['revenue'].sort_values(ascending=False)[:5], '\\n')"
      ],
      "execution_count": 8,
      "outputs": [
        {
          "output_type": "stream",
          "text": [
            "Top Five Correlation:  \n",
            " revenue    1.000000\n",
            "P2         0.191518\n",
            "P28        0.155534\n",
            "P6         0.139094\n",
            "P21        0.097411\n",
            "Name: revenue, dtype: float64 \n",
            "\n"
          ],
          "name": "stdout"
        }
      ]
    },
    {
      "cell_type": "code",
      "metadata": {
        "id": "YNh6O4gX41Sk"
      },
      "source": [
        "#Build a linear model\n",
        "y = np.log(train_resdata['revenue'])\n",
        "X = data1.drop(['revenue', 'Id'], axis=1)\n",
        "\n",
        "#split data\n",
        "X_train, X_test, y_train, y_test = train_test_split(X, y, random_state=42, test_size=.33)\n",
        "\n",
        "#Build a linear model\n",
        "lrm = linear_model.LinearRegression()\n",
        "model = lrm.fit(X_train, y_train)"
      ],
      "execution_count": 9,
      "outputs": []
    },
    {
      "cell_type": "code",
      "metadata": {
        "id": "k0nKijdO98wp"
      },
      "source": [
        "#prediction\n",
        "predictions = model.predict(X_test)"
      ],
      "execution_count": 10,
      "outputs": []
    },
    {
      "cell_type": "code",
      "metadata": {
        "colab": {
          "base_uri": "https://localhost:8080/"
        },
        "id": "ei18yz-B41ZA",
        "outputId": "b6b41436-c200-40f9-8c86-b4c62929c87e"
      },
      "source": [
        "#Evaluate the performance and visualize results\n",
        "mae = mean_absolute_error(y_test, predictions)\n",
        "mse = mean_squared_error(y_test, predictions)\n",
        "rmse = math.sqrt(mse)\n",
        "r2 = r2_score(y_test, predictions)\n",
        "\n",
        "print('Mwan Absulate Error is: \\n', mae)\n",
        "print('\\n')\n",
        "print('Mean Squared Error is: \\n', mse)\n",
        "print('\\n')\n",
        "print('Root Mean Square Error (RMSE) is: \\n', rmse)  #q2: Root Mean Square Error (RMSE) is: 0.4122178463315911\n",
        "print('\\n')\n",
        "print(\"R Squared (R²) Score is: \\n\", r2)  # q2: R Squared (R²) Score is:  -0.8066591123432238"
      ],
      "execution_count": 11,
      "outputs": [
        {
          "output_type": "stream",
          "text": [
            "Mwan Absulate Error is: \n",
            " 0.5801624506903178\n",
            "\n",
            "\n",
            "Mean Squared Error is: \n",
            " 0.6132831095786198\n",
            "\n",
            "\n",
            "Root Mean Square Error (RMSE) is: \n",
            " 0.7831239426671999\n",
            "\n",
            "\n",
            "R Squared (R²) Score is: \n",
            " -1.6878834291786657\n"
          ],
          "name": "stdout"
        }
      ]
    }
  ]
}