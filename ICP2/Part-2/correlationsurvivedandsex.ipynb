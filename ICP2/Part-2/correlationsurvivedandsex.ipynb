{
  "nbformat": 4,
  "nbformat_minor": 0,
  "metadata": {
    "colab": {
      "name": "correlationsurvivedandsex.ipynb",
      "provenance": []
    },
    "kernelspec": {
      "name": "python3",
      "display_name": "Python 3"
    },
    "language_info": {
      "name": "python"
    }
  },
  "cells": [
    {
      "cell_type": "code",
      "metadata": {
        "id": "zgJHMtP4Bz3d"
      },
      "source": [
        "import pandas as pd\n",
        "import numpy as np\n",
        "import random as rnd\n",
        "\n",
        "# visualization\n",
        "import seaborn as sns\n",
        "import matplotlib.pyplot as plt\n"
      ],
      "execution_count": 7,
      "outputs": []
    },
    {
      "cell_type": "code",
      "metadata": {
        "colab": {
          "base_uri": "https://localhost:8080/"
        },
        "id": "BzB1U5epCClI",
        "outputId": "62a0cdc1-d2a6-4191-9bea-509aa7417c29"
      },
      "source": [
        "#Q1:\n",
        "#read data\n",
        "traincorr= pd.read_csv('train.csv')\n",
        "\n",
        "# Print columns\n",
        "print(traincorr.columns.values) \n",
        "print(traincorr['Survived'].value_counts(dropna='False'))\n",
        "\n",
        "# drop survived from the dataset\n",
        "X_train= traincorr.drop(\"Survived\", axis=1)  \n",
        "Y_train= traincorr[\"Survived\"]\n",
        "\n",
        "# Categorizing sex column\n",
        "traincorr['Sex'] = traincorr['Sex'].map({'female': 1, 'male': 0}).astype(int) \n",
        "\n",
        "\n",
        "# Correlation between sex and survived\n",
        "print(traincorr[[\"Sex\", \"Survived\"]].groupby(['Sex'], as_index=False).mean().sort_values(by='Survived', ascending=False))\n",
        "print(\"correlation between ‘survived’ (target column) and ‘sex’ column is: \", traincorr['Sex'].corr(traincorr['Survived']))"
      ],
      "execution_count": 8,
      "outputs": [
        {
          "output_type": "stream",
          "text": [
            "['PassengerId' 'Survived' 'Pclass' 'Name' 'Sex' 'Age' 'SibSp' 'Parch'\n",
            " 'Ticket' 'Fare' 'Cabin' 'Embarked']\n",
            "0    549\n",
            "1    342\n",
            "Name: Survived, dtype: int64\n",
            "   Sex  Survived\n",
            "1    1  0.742038\n",
            "0    0  0.188908\n",
            "correlation between ‘survived’ (target column) and ‘sex’ column is:  0.5433513806577555\n"
          ],
          "name": "stdout"
        }
      ]
    },
    {
      "cell_type": "markdown",
      "metadata": {
        "id": "X4JrvbdTCPMh"
      },
      "source": [
        "# a. Do you think we should keep this feature?\n"
      ]
    },
    {
      "cell_type": "code",
      "metadata": {
        "colab": {
          "base_uri": "https://localhost:8080/",
          "height": 242
        },
        "id": "ZW8d0kykCCqO",
        "outputId": "db90d9b3-7f2e-4769-c47d-e2feefdde0c9"
      },
      "source": [
        "#Q2:\n",
        "\n",
        "visualize = sns.FacetGrid(traincorr, col='Survived')\n",
        "visualize.map(plt.hist, 'Sex', bins=20)"
      ],
      "execution_count": 9,
      "outputs": [
        {
          "output_type": "execute_result",
          "data": {
            "text/plain": [
              "<seaborn.axisgrid.FacetGrid at 0x7fd2e5744890>"
            ]
          },
          "metadata": {
            "tags": []
          },
          "execution_count": 9
        },
        {
          "output_type": "display_data",
          "data": {
            "image/png": "[encoded data removed]",
            "text/plain": [
              "<Figure size 432x216 with 2 Axes>"
            ]
          },
          "metadata": {
            "tags": [],
            "needs_background": "light"
          }
        }
      ]
    },
    {
      "cell_type": "code",
      "metadata": {
        "colab": {
          "base_uri": "https://localhost:8080/",
          "height": 242
        },
        "id": "QIGW3PveCCuO",
        "outputId": "07dacc2d-294a-466d-f747-450d37d3f4b9"
      },
      "source": [
        "visualize2 = sns.FacetGrid(traincorr, col='Survived')\n",
        "visualize2.map(plt.hist, 'Fare', bins=20)\n",
        "\n",
        "# Not survive [0] has less fare than who has survived [1]"
      ],
      "execution_count": 10,
      "outputs": [
        {
          "output_type": "execute_result",
          "data": {
            "text/plain": [
              "<seaborn.axisgrid.FacetGrid at 0x7fd2db953450>"
            ]
          },
          "metadata": {
            "tags": []
          },
          "execution_count": 10
        },
        {
          "output_type": "display_data",
          "data": {
            "image/png": "[encoded data removed]",
            "text/plain": [
              "<Figure size 432x216 with 2 Axes>"
            ]
          },
          "metadata": {
            "tags": [],
            "needs_background": "light"
          }
        }
      ]
    },
    {
      "cell_type": "code",
      "metadata": {
        "colab": {
          "base_uri": "https://localhost:8080/",
          "height": 494
        },
        "id": "QXptjUhyCCzr",
        "outputId": "378ce5de-6586-4585-de0c-51095386432f"
      },
      "source": [
        "#--Extra work--\n",
        "# I'd like to see the corr between 2 Variable in Survived Column...\n",
        "\n",
        "grid = sns.FacetGrid(traincorr, col='Survived', size=2.2, aspect=1.6)\n",
        "grid.map(sns.barplot, 'Sex', 'Age', alpha=.5, ci=None)\n",
        "grid.add_legend()\n",
        "\n",
        "# Pclass = Ticket class\t [ 1 = 1st, 2 = 2nd, 3 = 3rd ]\n",
        "# Embarked = Port of Embarkation\t[ C = Cherbourg, Q = Queenstown, S = Southampton ]\n",
        "\n",
        "grid = sns.FacetGrid(traincorr, col='Survived', size=2.2, aspect=1.6)\n",
        "grid.map(sns.barplot, 'Pclass', 'Embarked', alpha=.5, ci=None)\n",
        "grid.add_legend()"
      ],
      "execution_count": 11,
      "outputs": [
        {
          "output_type": "stream",
          "text": [
            "/usr/local/lib/python3.7/dist-packages/seaborn/axisgrid.py:316: UserWarning: The `size` parameter has been renamed to `height`; please update your code.\n",
            "  warnings.warn(msg, UserWarning)\n",
            "/usr/local/lib/python3.7/dist-packages/seaborn/axisgrid.py:643: UserWarning: Using the barplot function without specifying `order` is likely to produce an incorrect plot.\n",
            "  warnings.warn(warning)\n",
            "/usr/local/lib/python3.7/dist-packages/seaborn/axisgrid.py:316: UserWarning: The `size` parameter has been renamed to `height`; please update your code.\n",
            "  warnings.warn(msg, UserWarning)\n",
            "/usr/local/lib/python3.7/dist-packages/seaborn/axisgrid.py:643: UserWarning: Using the barplot function without specifying `order` is likely to produce an incorrect plot.\n",
            "  warnings.warn(warning)\n"
          ],
          "name": "stderr"
        },
        {
          "output_type": "execute_result",
          "data": {
            "text/plain": [
              "<seaborn.axisgrid.FacetGrid at 0x7fd2db814a10>"
            ]
          },
          "metadata": {
            "tags": []
          },
          "execution_count": 11
        },
        {
          "output_type": "display_data",
          "data": {
            "image/png": "[encoded data removed]",
            "text/plain": [
              "<Figure size 514.88x158.4 with 2 Axes>"
            ]
          },
          "metadata": {
            "tags": [],
            "needs_background": "light"
          }
        },
        {
          "output_type": "display_data",
          "data": {
            "image/png": "[encoded data removed]",
            "text/plain": [
              "<Figure size 514.88x158.4 with 2 Axes>"
            ]
          },
          "metadata": {
            "tags": [],
            "needs_background": "light"
          }
        }
      ]
    }
  ]
}