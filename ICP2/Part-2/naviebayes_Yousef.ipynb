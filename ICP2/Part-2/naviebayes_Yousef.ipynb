{
  "nbformat": 4,
  "nbformat_minor": 0,
  "metadata": {
    "colab": {
      "name": "naviebayes_Yousef.ipynb",
      "provenance": [],
      "collapsed_sections": []
    },
    "kernelspec": {
      "name": "python3",
      "display_name": "Python 3"
    }
  },
  "cells": [
    {
      "cell_type": "code",
      "metadata": {
        "id": "1Ly5qI5uaNW1"
      },
      "source": [
        "import pandas as pd\n",
        "import numpy as np\n",
        "import random as rnd\n",
        "\n",
        "# visualization\n",
        "import seaborn as sns\n",
        "import matplotlib.pyplot as plt\n",
        "\n",
        "# machine learning\n",
        "from sklearn.linear_model import LogisticRegression, RidgeClassifierCV\n",
        "from sklearn.svm import SVC, LinearSVC\n",
        "from sklearn.ensemble import (RandomForestClassifier, GradientBoostingClassifier)\n",
        "from sklearn.neighbors import KNeighborsClassifier\n",
        "from sklearn.naive_bayes import GaussianNB\n",
        "from sklearn.linear_model import Perceptron\n",
        "from sklearn.linear_model import SGDClassifier\n",
        "from sklearn.tree import DecisionTreeClassifier\n",
        "from sklearn.model_selection import cross_val_score, GridSearchCV, train_test_split #added train_test_split\n",
        "from sklearn.metrics import accuracy_score, classification_report #added classification_report"
      ],
      "execution_count": 5,
      "outputs": []
    },
    {
      "cell_type": "code",
      "metadata": {
        "id": "EFcGN_-iaPyL"
      },
      "source": [
        "#Glass dataset\n",
        "#1.\n",
        "# Importing the dataset\n",
        "navie = pd.read_csv('glass.csv')\n",
        "X = navie.drop(\"Type\", axis=1)\n",
        "Y = navie[\"Type\"]\n",
        "\n",
        "# Training and testing data\n",
        "X_train, X_test, y_train, y_test = train_test_split(X, Y, test_size=0.2, random_state=0)\n",
        "\n",
        "# using navie bays\n",
        "naviebays = GaussianNB()"
      ],
      "execution_count": 6,
      "outputs": []
    },
    {
      "cell_type": "code",
      "metadata": {
        "id": "0fKZeOPkaREi"
      },
      "source": [
        "#2. Evaluate the model on testing part using score\n",
        "# Showing the result of test data\n",
        "Y_prediction = naviebays.fit(X_train, y_train).predict(X_test)\n",
        "acc_nb = round(naviebays.score(X_test, y_test) * 100, 2)"
      ],
      "execution_count": 7,
      "outputs": []
    },
    {
      "cell_type": "code",
      "metadata": {
        "id": "QC0IItezaRQa",
        "colab": {
          "base_uri": "https://localhost:8080/"
        },
        "outputId": "5525c8ec-e872-4777-c930-803084ff9547"
      },
      "source": [
        "# 3. Use the model to Predict the classes of the validation set & mean accuracy.\n",
        "print(\"Accuracy Score is:\", acc_nb)\n",
        "print(classification_report(y_test, Y_prediction))"
      ],
      "execution_count": 8,
      "outputs": [
        {
          "output_type": "stream",
          "text": [
            "Accuracy Score is: 37.21\n",
            "              precision    recall  f1-score   support\n",
            "\n",
            "           1       0.19      0.44      0.27         9\n",
            "           2       0.33      0.16      0.21        19\n",
            "           3       0.33      0.20      0.25         5\n",
            "           5       0.00      0.00      0.00         2\n",
            "           6       0.67      1.00      0.80         2\n",
            "           7       1.00      1.00      1.00         6\n",
            "\n",
            "    accuracy                           0.37        43\n",
            "   macro avg       0.42      0.47      0.42        43\n",
            "weighted avg       0.40      0.37      0.36        43\n",
            "\n"
          ],
          "name": "stdout"
        }
      ]
    }
  ]
}